{
 "cells": [
  {
   "attachments": {},
   "cell_type": "markdown",
   "metadata": {},
   "source": [
    "# Semi-Automated Embracing Approach - PoC\n",
    "\n",
    "PoC for explanation of the core of the semi-automated evolution of the embracing approach for (Privacy) Threat Modelling."
   ]
  },
  {
   "attachments": {},
   "cell_type": "markdown",
   "metadata": {},
   "source": [
    "### Dependencies\n",
    "\n",
    "Please install the dependencies."
   ]
  },
  {
   "cell_type": "code",
   "execution_count": null,
   "metadata": {},
   "outputs": [],
   "source": [
    "!pip3 install -r requirements.txt"
   ]
  },
  {
   "attachments": {},
   "cell_type": "markdown",
   "metadata": {},
   "source": [
    "### Imports and Setup\n",
    "\n",
    "The following snippet imports the required modules and sets up some utils."
   ]
  },
  {
   "cell_type": "code",
   "execution_count": 1,
   "metadata": {},
   "outputs": [],
   "source": [
    "import itertools\n",
    "import pandas\n",
    "import spacy\n",
    "from nltk.corpus import wordnet as wn\n",
    "from sentence_transformers import SentenceTransformer, util\n",
    "\n",
    "\n",
    "# Semantic similarity model\n",
    "model = SentenceTransformer('stsb-roberta-large')\n",
    "# Spacy setup\n",
    "nlp = spacy.load('en_core_web_lg')\n",
    "nlp.add_pipe('merge_entities')\n",
    "\n",
    "# Synset utility functions\n",
    "hyper = lambda s: s.hypernyms()\n",
    "hypo = lambda s: s.hyponyms()\n",
    "part_mero = lambda s: s.part_meronyms()\n",
    "part_holo = lambda s: s.part_holonyms()\n",
    "synsets = lambda s: wn.synsets(s)"
   ]
  },
  {
   "attachments": {},
   "cell_type": "markdown",
   "metadata": {},
   "source": [
    "## Semantic Similarity\n",
    "\n",
    "We leverage Semantic Similarity to understand whether two threat are similar, hence embraceable, or not.\n",
    "\n",
    "The most straightforward and effective method is to use a powerful model (e.g., transformer) to encode sentences to get their embeddings and then use a similarity metric (e.g., cosine similarity) to compute their similarity score."
   ]
  },
  {
   "cell_type": "code",
   "execution_count": 18,
   "metadata": {},
   "outputs": [],
   "source": [
    "def semantic_similarity(sentence1: str, sentence2: str) -> float:\n",
    "    '''\n",
    "    Calculate the semantic similarity between two sentences.\n",
    "    '''\n",
    "    # Encode threats to get their embeddings\n",
    "    embedding1 = model.encode(sentence1, convert_to_tensor=True)\n",
    "    embedding2 = model.encode(sentence2, convert_to_tensor=True)\n",
    "    # Compute similarity scores of two embeddings\n",
    "    cosine_scores = util.pytorch_cos_sim(embedding1, embedding2)\n",
    "    return cosine_scores.item()"
   ]
  },
  {
   "attachments": {},
   "cell_type": "markdown",
   "metadata": {},
   "source": [
    "#### Example"
   ]
  },
  {
   "cell_type": "code",
   "execution_count": 19,
   "metadata": {},
   "outputs": [
    {
     "name": "stdout",
     "output_type": "stream",
     "text": [
      "Threat 1: An adversary relates pseudonymous positions to specific vehicles.\n",
      "Threat 2: Possibility to discover and control the behaviour and profile of the driver.\n",
      "Similarity score: 0.4503408968448639\n"
     ]
    }
   ],
   "source": [
    "# Get and print semantic similarity between threat1 and threat2\n",
    "threat1 = \"An adversary relates pseudonymous positions to specific vehicles.\"\n",
    "threat2 = \"Possibility to discover and control the behaviour and profile of the driver.\"\n",
    "print(f\"Threat 1: {threat1}\\nThreat 2: {threat2}\\nSimilarity score: {semantic_similarity(threat1, threat2)}\")"
   ]
  },
  {
   "attachments": {},
   "cell_type": "markdown",
   "metadata": {},
   "source": [
    "## Synset Relations\n",
    "\n",
    "We also support the analyst in choosing the term with the most pertaining wording/level of detail by leveraging synset (synonym set) relations.\n",
    "\n",
    "In particular, we are interested in two types of relationships: the \"type of\" synset relation, which regards the hypernyms/hyponyms, and the \"part of\" synset relation, which regards part meronyms/part holonyms."
   ]
  },
  {
   "cell_type": "code",
   "execution_count": 20,
   "metadata": {},
   "outputs": [],
   "source": [
    "def synset_relations(sentence: str) -> dict:\n",
    "    '''\n",
    "    Get synset relations for each term within a sentence.\n",
    "    '''\n",
    "    result = {'sentence': sentence, 'terms': []}\n",
    "\n",
    "    doc = nlp(sentence)\n",
    "    # Get synset relations for nouns only\n",
    "    nouns = [token.lemma_ for token in doc if token.pos_ == 'NOUN']\n",
    "    for noun in nouns:\n",
    "        # By default, consider the term as the first of the synonyms in the corpus.\n",
    "        term = synsets(noun)[0] if synsets(noun) else None\n",
    "        if term:\n",
    "            # If the term is found, then retrieve the synset relations.\n",
    "            relations = {\n",
    "                'term': term,\n",
    "                'synonyms': synsets(noun),\n",
    "                'meronyms': list(term.closure(part_mero)),\n",
    "                'holonyms': list(term.closure(part_holo)),\n",
    "                'hypernyms [L1]': list(term.closure(hyper, depth=1)),\n",
    "                'hypernyms [L2]': list(term.closure(hyper, depth=2)),\n",
    "                'hypernyms [L3]': list(term.closure(hyper, depth=3)),\n",
    "                'hyponyms [L1]': list(term.closure(hypo, depth=1)),\n",
    "                'hyponyms [L2]': list(term.closure(hypo, depth=2)),\n",
    "                'hyponyms [L3]': list(term.closure(hypo, depth=3))\n",
    "            }\n",
    "            result['terms'].append(relations)\n",
    "        else:\n",
    "            print(f'Term \"{noun}\" not found in corpus!')\n",
    "\n",
    "    return result"
   ]
  },
  {
   "attachments": {},
   "cell_type": "markdown",
   "metadata": {},
   "source": [
    "#### Example"
   ]
  },
  {
   "cell_type": "code",
   "execution_count": 21,
   "metadata": {},
   "outputs": [
    {
     "name": "stdout",
     "output_type": "stream",
     "text": [
      "Synset relations for threat: \"An adversary relates pseudonymous positions to specific vehicles.\"\n",
      "\n",
      "Term:  Synset('adversary.n.01')\n",
      "Synonyms:  [Synset('adversary.n.01')]\n",
      "Meronyms:  []\n",
      "Holonyms:  []\n",
      "Hypernyms [L1]:  [Synset('person.n.01')]\n",
      "Hypernyms [L2]:  [Synset('person.n.01'), Synset('causal_agent.n.01'), Synset('organism.n.01')]\n",
      "Hypernyms [L3]:  [Synset('person.n.01'), Synset('causal_agent.n.01'), Synset('organism.n.01'), Synset('physical_entity.n.01'), Synset('living_thing.n.01')]\n",
      "Hyponyms [L1]:  [Synset('dueler.n.01'), Synset('enemy.n.02'), Synset('luddite.n.01'), Synset('withstander.n.01')]\n",
      "Hyponyms [L2]:  [Synset('dueler.n.01'), Synset('enemy.n.02'), Synset('luddite.n.01'), Synset('withstander.n.01'), Synset('besieger.n.01')]\n",
      "Hyponyms [L3]:  [Synset('dueler.n.01'), Synset('enemy.n.02'), Synset('luddite.n.01'), Synset('withstander.n.01'), Synset('besieger.n.01')]\n",
      "\n",
      "\n",
      "\n",
      "---\n",
      "\n",
      "\n",
      "\n",
      "Term:  Synset('position.n.01')\n",
      "Synonyms:  [Synset('position.n.01'), Synset('military_position.n.01'), Synset('position.n.03'), Synset('position.n.04'), Synset('status.n.01'), Synset('position.n.06'), Synset('position.n.07'), Synset('position.n.08'), Synset('position.n.09'), Synset('placement.n.03'), Synset('situation.n.02'), Synset('position.n.12'), Synset('side.n.10'), Synset('place.n.15'), Synset('stead.n.01'), Synset('position.n.16'), Synset('position.v.01'), Synset('put.v.01')]\n",
      "Meronyms:  []\n",
      "Holonyms:  []\n",
      "Hypernyms [L1]:  [Synset('point.n.02')]\n",
      "Hypernyms [L2]:  [Synset('point.n.02'), Synset('location.n.01')]\n",
      "Hypernyms [L3]:  [Synset('point.n.02'), Synset('location.n.01'), Synset('object.n.01')]\n",
      "Hyponyms [L1]:  [Synset('anomaly.n.03'), Synset('back.n.03'), Synset('front.n.09'), Synset('half-mast.n.01'), Synset('juxtaposition.n.02'), Synset('landmark.n.01'), Synset('lead.n.09'), Synset('left.n.01'), Synset('lie.n.03'), Synset('pitch.n.03'), Synset('pole_position.n.01'), Synset('polls.n.01'), Synset('post.n.01'), Synset('pride_of_place.n.01'), Synset('right.n.02'), Synset('setting.n.05'), Synset('site.n.02'), Synset('stand.n.02'), Synset('station.n.03'), Synset('vantage.n.01'), Synset('wing.n.07')]\n",
      "Hyponyms [L2]:  [Synset('anomaly.n.03'), Synset('back.n.03'), Synset('front.n.09'), Synset('half-mast.n.01'), Synset('juxtaposition.n.02'), Synset('landmark.n.01'), Synset('lead.n.09'), Synset('left.n.01'), Synset('lie.n.03'), Synset('pitch.n.03'), Synset('pole_position.n.01'), Synset('polls.n.01'), Synset('post.n.01'), Synset('pride_of_place.n.01'), Synset('right.n.02'), Synset('setting.n.05'), Synset('site.n.02'), Synset('stand.n.02'), Synset('station.n.03'), Synset('vantage.n.01'), Synset('wing.n.07'), Synset('stage_left.n.01'), Synset('bridgehead.n.02'), Synset('lookout.n.02'), Synset('outstation.n.01'), Synset('stage_right.n.01'), Synset('active_site.n.01'), Synset('antigenic_determinant.n.01'), Synset('close_quarters.n.01'), Synset('locus.n.02'), Synset('locus_of_infection.n.01'), Synset('restriction_site.n.01'), Synset('cabstand.n.01'), Synset('vantage_point.n.01')]\n",
      "Hyponyms [L3]:  [Synset('anomaly.n.03'), Synset('back.n.03'), Synset('front.n.09'), Synset('half-mast.n.01'), Synset('juxtaposition.n.02'), Synset('landmark.n.01'), Synset('lead.n.09'), Synset('left.n.01'), Synset('lie.n.03'), Synset('pitch.n.03'), Synset('pole_position.n.01'), Synset('polls.n.01'), Synset('post.n.01'), Synset('pride_of_place.n.01'), Synset('right.n.02'), Synset('setting.n.05'), Synset('site.n.02'), Synset('stand.n.02'), Synset('station.n.03'), Synset('vantage.n.01'), Synset('wing.n.07'), Synset('stage_left.n.01'), Synset('bridgehead.n.02'), Synset('lookout.n.02'), Synset('outstation.n.01'), Synset('stage_right.n.01'), Synset('active_site.n.01'), Synset('antigenic_determinant.n.01'), Synset('close_quarters.n.01'), Synset('locus.n.02'), Synset('locus_of_infection.n.01'), Synset('restriction_site.n.01'), Synset('cabstand.n.01'), Synset('vantage_point.n.01'), Synset('meteorological_observation_post.n.01')]\n",
      "\n",
      "\n",
      "\n",
      "---\n",
      "\n",
      "\n",
      "\n",
      "Term:  Synset('vehicle.n.01')\n",
      "Synonyms:  [Synset('vehicle.n.01'), Synset('vehicle.n.02'), Synset('vehicle.n.03'), Synset('fomite.n.01')]\n",
      "Meronyms:  [Synset('splashboard.n.02')]\n",
      "Holonyms:  []\n",
      "Hypernyms [L1]:  [Synset('conveyance.n.03')]\n",
      "Hypernyms [L2]:  [Synset('conveyance.n.03'), Synset('instrumentality.n.03')]\n",
      "Hypernyms [L3]:  [Synset('conveyance.n.03'), Synset('instrumentality.n.03'), Synset('artifact.n.01')]\n",
      "Hyponyms [L1]:  [Synset('bumper_car.n.01'), Synset('craft.n.02'), Synset('military_vehicle.n.01'), Synset('rocket.n.01'), Synset('skibob.n.01'), Synset('sled.n.01'), Synset('steamroller.n.02'), Synset('wheeled_vehicle.n.01')]\n",
      "Hyponyms [L2]:  [Synset('bumper_car.n.01'), Synset('craft.n.02'), Synset('military_vehicle.n.01'), Synset('rocket.n.01'), Synset('skibob.n.01'), Synset('sled.n.01'), Synset('steamroller.n.02'), Synset('wheeled_vehicle.n.01'), Synset('aircraft.n.01'), Synset('hovercraft.n.01'), Synset('landing_craft.n.01'), Synset('spacecraft.n.01'), Synset('vessel.n.02'), Synset('caisson.n.02'), Synset('half_track.n.01'), Synset('humvee.n.01'), Synset('personnel_carrier.n.01'), Synset('picket.n.04'), Synset('reconnaissance_vehicle.n.01'), Synset('tank.n.01'), Synset('technical.n.01'), Synset('troop_carrier.n.01'), Synset('warplane.n.01'), Synset('warship.n.01'), Synset('weapons_carrier.n.01'), Synset('missile.n.01'), Synset('multistage_rocket.n.01'), Synset('test_rocket.n.01'), Synset('bobsled.n.01'), Synset('bobsled.n.02'), Synset('dogsled.n.01'), Synset('luge.n.01'), Synset('pung.n.01'), Synset('toboggan.n.01'), Synset('baby_buggy.n.01'), Synset('bicycle.n.01'), Synset('boneshaker.n.01'), Synset('car.n.02'), Synset('handcart.n.01'), Synset('horse-drawn_vehicle.n.01'), Synset('motor_scooter.n.01'), Synset('rolling_stock.n.01'), Synset('scooter.n.02'), Synset('self-propelled_vehicle.n.01'), Synset('skateboard.n.01'), Synset('trailer.n.04'), Synset('tricycle.n.01'), Synset('unicycle.n.01'), Synset('wagon.n.01'), Synset('wagon.n.04'), Synset('welcome_wagon.n.01')]\n",
      "Hyponyms [L3]:  [Synset('bumper_car.n.01'), Synset('craft.n.02'), Synset('military_vehicle.n.01'), Synset('rocket.n.01'), Synset('skibob.n.01'), Synset('sled.n.01'), Synset('steamroller.n.02'), Synset('wheeled_vehicle.n.01'), Synset('aircraft.n.01'), Synset('hovercraft.n.01'), Synset('landing_craft.n.01'), Synset('spacecraft.n.01'), Synset('vessel.n.02'), Synset('caisson.n.02'), Synset('half_track.n.01'), Synset('humvee.n.01'), Synset('personnel_carrier.n.01'), Synset('picket.n.04'), Synset('reconnaissance_vehicle.n.01'), Synset('tank.n.01'), Synset('technical.n.01'), Synset('troop_carrier.n.01'), Synset('warplane.n.01'), Synset('warship.n.01'), Synset('weapons_carrier.n.01'), Synset('missile.n.01'), Synset('multistage_rocket.n.01'), Synset('test_rocket.n.01'), Synset('bobsled.n.01'), Synset('bobsled.n.02'), Synset('dogsled.n.01'), Synset('luge.n.01'), Synset('pung.n.01'), Synset('toboggan.n.01'), Synset('baby_buggy.n.01'), Synset('bicycle.n.01'), Synset('boneshaker.n.01'), Synset('car.n.02'), Synset('handcart.n.01'), Synset('horse-drawn_vehicle.n.01'), Synset('motor_scooter.n.01'), Synset('rolling_stock.n.01'), Synset('scooter.n.02'), Synset('self-propelled_vehicle.n.01'), Synset('skateboard.n.01'), Synset('trailer.n.04'), Synset('tricycle.n.01'), Synset('unicycle.n.01'), Synset('wagon.n.01'), Synset('wagon.n.04'), Synset('welcome_wagon.n.01'), Synset('bogy.n.01'), Synset('cruise_missile.n.01'), Synset('heavier-than-air_craft.n.01'), Synset('lighter-than-air_craft.n.01'), Synset('stealth_aircraft.n.01'), Synset('lander.n.02'), Synset('lunar_excursion_module.n.01'), Synset('space_capsule.n.01'), Synset('space_shuttle.n.01'), Synset('starship.n.01'), Synset('bareboat.n.01'), Synset('boat.n.01'), Synset('fishing_boat.n.01'), Synset('galley.n.01'), Synset('galley.n.02'), Synset('iceboat.n.02'), Synset('patrol_boat.n.01'), Synset('sailing_vessel.n.01'), Synset('ship.n.01'), Synset('shrimper.n.01'), Synset('weather_ship.n.01'), Synset('yacht.n.01'), Synset('picket_boat.n.01'), Synset('picket_ship.n.01'), Synset('panzer.n.01'), Synset('troopship.n.01'), Synset('bomber.n.01'), Synset('fighter.n.02'), Synset('reconnaissance_plane.n.01'), Synset('aircraft_carrier.n.01'), Synset('battleship.n.01'), Synset('capital_ship.n.01'), Synset('corvette.n.01'), Synset('cruiser.n.02'), Synset('destroyer.n.01'), Synset('destroyer_escort.n.01'), Synset('frigate.n.01'), Synset('frigate.n.02'), Synset('guard_ship.n.01'), Synset('ironclad.n.01'), Synset('man-of-war.n.01'), Synset('privateer.n.02'), Synset('sloop_of_war.n.01'), Synset('submersible.n.02'), Synset('surface_ship.n.01'), Synset('three-decker.n.03'), Synset('torpedo_boat.n.01'), Synset('air-to-air_missile.n.01'), Synset('air-to-ground_missile.n.01'), Synset('ballistic_missile.n.01'), Synset('guided_missile.n.01'), Synset('heat-seeking_missile.n.01'), Synset('sidewinder.n.02'), Synset('sounding_rocket.n.01'), Synset('bassinet.n.02'), Synset('bicycle-built-for-two.n.01'), Synset('mountain_bike.n.01'), Synset('ordinary.n.04'), Synset('push-bike.n.01'), Synset('safety_bicycle.n.01'), Synset('velocipede.n.01'), Synset('baggage_car.n.01'), Synset('cabin_car.n.01'), Synset('club_car.n.01'), Synset('freight_car.n.01'), Synset('guard's_van.n.01'), Synset('handcar.n.01'), Synset('mail_car.n.01'), Synset('passenger_car.n.01'), Synset('slip_coach.n.01'), Synset('tender.n.04'), Synset('van.n.03'), Synset('applecart.n.02'), Synset('barrow.n.03'), Synset('hand_truck.n.01'), Synset('laundry_cart.n.01'), Synset('serving_cart.n.01'), Synset('shopping_cart.n.01'), Synset('carriage.n.02'), Synset('chariot.n.02'), Synset('limber.n.01'), Synset('sulky.n.01'), Synset('armored_vehicle.n.01'), Synset('carrier.n.02'), Synset('forklift.n.01'), Synset('locomotive.n.01'), Synset('motor_vehicle.n.01'), Synset('recreational_vehicle.n.01'), Synset('streetcar.n.01'), Synset('tracked_vehicle.n.01'), Synset('tractor.n.01'), Synset('camper_trailer.n.01'), Synset('mobile_home.n.01'), Synset('pedicab.n.01'), Synset('bandwagon.n.02'), Synset('cart.n.01'), Synset('chuck_wagon.n.01'), Synset('covered_wagon.n.01'), Synset('ice_wagon.n.01'), Synset('lorry.n.01'), Synset('milk_wagon.n.01'), Synset('tramcar.n.01'), Synset('wain.n.03'), Synset('water_wagon.n.01')]\n",
      "\n",
      "\n",
      "\n",
      "---\n",
      "\n",
      "\n",
      "\n",
      "\n",
      "\n",
      "\n",
      "------------------------------------------------------------\n",
      "\n",
      "\n",
      "\n",
      "Synset relations for threat: \"Possibility to discover and control the behaviour and profile of the driver.\"\n",
      "\n",
      "Term:  Synset('adversary.n.01')\n",
      "Synonyms:  [Synset('adversary.n.01')]\n",
      "Meronyms:  []\n",
      "Holonyms:  []\n",
      "Hypernyms [L1]:  [Synset('person.n.01')]\n",
      "Hypernyms [L2]:  [Synset('person.n.01'), Synset('causal_agent.n.01'), Synset('organism.n.01')]\n",
      "Hypernyms [L3]:  [Synset('person.n.01'), Synset('causal_agent.n.01'), Synset('organism.n.01'), Synset('physical_entity.n.01'), Synset('living_thing.n.01')]\n",
      "Hyponyms [L1]:  [Synset('dueler.n.01'), Synset('enemy.n.02'), Synset('luddite.n.01'), Synset('withstander.n.01')]\n",
      "Hyponyms [L2]:  [Synset('dueler.n.01'), Synset('enemy.n.02'), Synset('luddite.n.01'), Synset('withstander.n.01'), Synset('besieger.n.01')]\n",
      "Hyponyms [L3]:  [Synset('dueler.n.01'), Synset('enemy.n.02'), Synset('luddite.n.01'), Synset('withstander.n.01'), Synset('besieger.n.01')]\n",
      "\n",
      "\n",
      "\n",
      "---\n",
      "\n",
      "\n",
      "\n",
      "Term:  Synset('position.n.01')\n",
      "Synonyms:  [Synset('position.n.01'), Synset('military_position.n.01'), Synset('position.n.03'), Synset('position.n.04'), Synset('status.n.01'), Synset('position.n.06'), Synset('position.n.07'), Synset('position.n.08'), Synset('position.n.09'), Synset('placement.n.03'), Synset('situation.n.02'), Synset('position.n.12'), Synset('side.n.10'), Synset('place.n.15'), Synset('stead.n.01'), Synset('position.n.16'), Synset('position.v.01'), Synset('put.v.01')]\n",
      "Meronyms:  []\n",
      "Holonyms:  []\n",
      "Hypernyms [L1]:  [Synset('point.n.02')]\n",
      "Hypernyms [L2]:  [Synset('point.n.02'), Synset('location.n.01')]\n",
      "Hypernyms [L3]:  [Synset('point.n.02'), Synset('location.n.01'), Synset('object.n.01')]\n",
      "Hyponyms [L1]:  [Synset('anomaly.n.03'), Synset('back.n.03'), Synset('front.n.09'), Synset('half-mast.n.01'), Synset('juxtaposition.n.02'), Synset('landmark.n.01'), Synset('lead.n.09'), Synset('left.n.01'), Synset('lie.n.03'), Synset('pitch.n.03'), Synset('pole_position.n.01'), Synset('polls.n.01'), Synset('post.n.01'), Synset('pride_of_place.n.01'), Synset('right.n.02'), Synset('setting.n.05'), Synset('site.n.02'), Synset('stand.n.02'), Synset('station.n.03'), Synset('vantage.n.01'), Synset('wing.n.07')]\n",
      "Hyponyms [L2]:  [Synset('anomaly.n.03'), Synset('back.n.03'), Synset('front.n.09'), Synset('half-mast.n.01'), Synset('juxtaposition.n.02'), Synset('landmark.n.01'), Synset('lead.n.09'), Synset('left.n.01'), Synset('lie.n.03'), Synset('pitch.n.03'), Synset('pole_position.n.01'), Synset('polls.n.01'), Synset('post.n.01'), Synset('pride_of_place.n.01'), Synset('right.n.02'), Synset('setting.n.05'), Synset('site.n.02'), Synset('stand.n.02'), Synset('station.n.03'), Synset('vantage.n.01'), Synset('wing.n.07'), Synset('stage_left.n.01'), Synset('bridgehead.n.02'), Synset('lookout.n.02'), Synset('outstation.n.01'), Synset('stage_right.n.01'), Synset('active_site.n.01'), Synset('antigenic_determinant.n.01'), Synset('close_quarters.n.01'), Synset('locus.n.02'), Synset('locus_of_infection.n.01'), Synset('restriction_site.n.01'), Synset('cabstand.n.01'), Synset('vantage_point.n.01')]\n",
      "Hyponyms [L3]:  [Synset('anomaly.n.03'), Synset('back.n.03'), Synset('front.n.09'), Synset('half-mast.n.01'), Synset('juxtaposition.n.02'), Synset('landmark.n.01'), Synset('lead.n.09'), Synset('left.n.01'), Synset('lie.n.03'), Synset('pitch.n.03'), Synset('pole_position.n.01'), Synset('polls.n.01'), Synset('post.n.01'), Synset('pride_of_place.n.01'), Synset('right.n.02'), Synset('setting.n.05'), Synset('site.n.02'), Synset('stand.n.02'), Synset('station.n.03'), Synset('vantage.n.01'), Synset('wing.n.07'), Synset('stage_left.n.01'), Synset('bridgehead.n.02'), Synset('lookout.n.02'), Synset('outstation.n.01'), Synset('stage_right.n.01'), Synset('active_site.n.01'), Synset('antigenic_determinant.n.01'), Synset('close_quarters.n.01'), Synset('locus.n.02'), Synset('locus_of_infection.n.01'), Synset('restriction_site.n.01'), Synset('cabstand.n.01'), Synset('vantage_point.n.01'), Synset('meteorological_observation_post.n.01')]\n",
      "\n",
      "\n",
      "\n",
      "---\n",
      "\n",
      "\n",
      "\n",
      "Term:  Synset('vehicle.n.01')\n",
      "Synonyms:  [Synset('vehicle.n.01'), Synset('vehicle.n.02'), Synset('vehicle.n.03'), Synset('fomite.n.01')]\n",
      "Meronyms:  [Synset('splashboard.n.02')]\n",
      "Holonyms:  []\n",
      "Hypernyms [L1]:  [Synset('conveyance.n.03')]\n",
      "Hypernyms [L2]:  [Synset('conveyance.n.03'), Synset('instrumentality.n.03')]\n",
      "Hypernyms [L3]:  [Synset('conveyance.n.03'), Synset('instrumentality.n.03'), Synset('artifact.n.01')]\n",
      "Hyponyms [L1]:  [Synset('bumper_car.n.01'), Synset('craft.n.02'), Synset('military_vehicle.n.01'), Synset('rocket.n.01'), Synset('skibob.n.01'), Synset('sled.n.01'), Synset('steamroller.n.02'), Synset('wheeled_vehicle.n.01')]\n",
      "Hyponyms [L2]:  [Synset('bumper_car.n.01'), Synset('craft.n.02'), Synset('military_vehicle.n.01'), Synset('rocket.n.01'), Synset('skibob.n.01'), Synset('sled.n.01'), Synset('steamroller.n.02'), Synset('wheeled_vehicle.n.01'), Synset('aircraft.n.01'), Synset('hovercraft.n.01'), Synset('landing_craft.n.01'), Synset('spacecraft.n.01'), Synset('vessel.n.02'), Synset('caisson.n.02'), Synset('half_track.n.01'), Synset('humvee.n.01'), Synset('personnel_carrier.n.01'), Synset('picket.n.04'), Synset('reconnaissance_vehicle.n.01'), Synset('tank.n.01'), Synset('technical.n.01'), Synset('troop_carrier.n.01'), Synset('warplane.n.01'), Synset('warship.n.01'), Synset('weapons_carrier.n.01'), Synset('missile.n.01'), Synset('multistage_rocket.n.01'), Synset('test_rocket.n.01'), Synset('bobsled.n.01'), Synset('bobsled.n.02'), Synset('dogsled.n.01'), Synset('luge.n.01'), Synset('pung.n.01'), Synset('toboggan.n.01'), Synset('baby_buggy.n.01'), Synset('bicycle.n.01'), Synset('boneshaker.n.01'), Synset('car.n.02'), Synset('handcart.n.01'), Synset('horse-drawn_vehicle.n.01'), Synset('motor_scooter.n.01'), Synset('rolling_stock.n.01'), Synset('scooter.n.02'), Synset('self-propelled_vehicle.n.01'), Synset('skateboard.n.01'), Synset('trailer.n.04'), Synset('tricycle.n.01'), Synset('unicycle.n.01'), Synset('wagon.n.01'), Synset('wagon.n.04'), Synset('welcome_wagon.n.01')]\n",
      "Hyponyms [L3]:  [Synset('bumper_car.n.01'), Synset('craft.n.02'), Synset('military_vehicle.n.01'), Synset('rocket.n.01'), Synset('skibob.n.01'), Synset('sled.n.01'), Synset('steamroller.n.02'), Synset('wheeled_vehicle.n.01'), Synset('aircraft.n.01'), Synset('hovercraft.n.01'), Synset('landing_craft.n.01'), Synset('spacecraft.n.01'), Synset('vessel.n.02'), Synset('caisson.n.02'), Synset('half_track.n.01'), Synset('humvee.n.01'), Synset('personnel_carrier.n.01'), Synset('picket.n.04'), Synset('reconnaissance_vehicle.n.01'), Synset('tank.n.01'), Synset('technical.n.01'), Synset('troop_carrier.n.01'), Synset('warplane.n.01'), Synset('warship.n.01'), Synset('weapons_carrier.n.01'), Synset('missile.n.01'), Synset('multistage_rocket.n.01'), Synset('test_rocket.n.01'), Synset('bobsled.n.01'), Synset('bobsled.n.02'), Synset('dogsled.n.01'), Synset('luge.n.01'), Synset('pung.n.01'), Synset('toboggan.n.01'), Synset('baby_buggy.n.01'), Synset('bicycle.n.01'), Synset('boneshaker.n.01'), Synset('car.n.02'), Synset('handcart.n.01'), Synset('horse-drawn_vehicle.n.01'), Synset('motor_scooter.n.01'), Synset('rolling_stock.n.01'), Synset('scooter.n.02'), Synset('self-propelled_vehicle.n.01'), Synset('skateboard.n.01'), Synset('trailer.n.04'), Synset('tricycle.n.01'), Synset('unicycle.n.01'), Synset('wagon.n.01'), Synset('wagon.n.04'), Synset('welcome_wagon.n.01'), Synset('bogy.n.01'), Synset('cruise_missile.n.01'), Synset('heavier-than-air_craft.n.01'), Synset('lighter-than-air_craft.n.01'), Synset('stealth_aircraft.n.01'), Synset('lander.n.02'), Synset('lunar_excursion_module.n.01'), Synset('space_capsule.n.01'), Synset('space_shuttle.n.01'), Synset('starship.n.01'), Synset('bareboat.n.01'), Synset('boat.n.01'), Synset('fishing_boat.n.01'), Synset('galley.n.01'), Synset('galley.n.02'), Synset('iceboat.n.02'), Synset('patrol_boat.n.01'), Synset('sailing_vessel.n.01'), Synset('ship.n.01'), Synset('shrimper.n.01'), Synset('weather_ship.n.01'), Synset('yacht.n.01'), Synset('picket_boat.n.01'), Synset('picket_ship.n.01'), Synset('panzer.n.01'), Synset('troopship.n.01'), Synset('bomber.n.01'), Synset('fighter.n.02'), Synset('reconnaissance_plane.n.01'), Synset('aircraft_carrier.n.01'), Synset('battleship.n.01'), Synset('capital_ship.n.01'), Synset('corvette.n.01'), Synset('cruiser.n.02'), Synset('destroyer.n.01'), Synset('destroyer_escort.n.01'), Synset('frigate.n.01'), Synset('frigate.n.02'), Synset('guard_ship.n.01'), Synset('ironclad.n.01'), Synset('man-of-war.n.01'), Synset('privateer.n.02'), Synset('sloop_of_war.n.01'), Synset('submersible.n.02'), Synset('surface_ship.n.01'), Synset('three-decker.n.03'), Synset('torpedo_boat.n.01'), Synset('air-to-air_missile.n.01'), Synset('air-to-ground_missile.n.01'), Synset('ballistic_missile.n.01'), Synset('guided_missile.n.01'), Synset('heat-seeking_missile.n.01'), Synset('sidewinder.n.02'), Synset('sounding_rocket.n.01'), Synset('bassinet.n.02'), Synset('bicycle-built-for-two.n.01'), Synset('mountain_bike.n.01'), Synset('ordinary.n.04'), Synset('push-bike.n.01'), Synset('safety_bicycle.n.01'), Synset('velocipede.n.01'), Synset('baggage_car.n.01'), Synset('cabin_car.n.01'), Synset('club_car.n.01'), Synset('freight_car.n.01'), Synset('guard's_van.n.01'), Synset('handcar.n.01'), Synset('mail_car.n.01'), Synset('passenger_car.n.01'), Synset('slip_coach.n.01'), Synset('tender.n.04'), Synset('van.n.03'), Synset('applecart.n.02'), Synset('barrow.n.03'), Synset('hand_truck.n.01'), Synset('laundry_cart.n.01'), Synset('serving_cart.n.01'), Synset('shopping_cart.n.01'), Synset('carriage.n.02'), Synset('chariot.n.02'), Synset('limber.n.01'), Synset('sulky.n.01'), Synset('armored_vehicle.n.01'), Synset('carrier.n.02'), Synset('forklift.n.01'), Synset('locomotive.n.01'), Synset('motor_vehicle.n.01'), Synset('recreational_vehicle.n.01'), Synset('streetcar.n.01'), Synset('tracked_vehicle.n.01'), Synset('tractor.n.01'), Synset('camper_trailer.n.01'), Synset('mobile_home.n.01'), Synset('pedicab.n.01'), Synset('bandwagon.n.02'), Synset('cart.n.01'), Synset('chuck_wagon.n.01'), Synset('covered_wagon.n.01'), Synset('ice_wagon.n.01'), Synset('lorry.n.01'), Synset('milk_wagon.n.01'), Synset('tramcar.n.01'), Synset('wain.n.03'), Synset('water_wagon.n.01')]\n",
      "\n",
      "\n",
      "\n",
      "---\n",
      "\n",
      "\n",
      "\n"
     ]
    }
   ],
   "source": [
    "# Get and print synset relations for terms in threat1 and threat2\n",
    "threat1 = \"An adversary relates pseudonymous positions to specific vehicles.\"\n",
    "threat2 = \"Possibility to discover and control the behaviour and profile of the driver.\"\n",
    "\n",
    "sr1 = synset_relations(threat1)\n",
    "print(f'Synset relations for threat: \"{threat1}\"\\n')\n",
    "for term in sr1.get('terms'):\n",
    "    print('Term: ', term.get('term'))\n",
    "    print('Synonyms: ', term.get('synonyms'))\n",
    "    print('Meronyms: ', term.get('meronyms'))\n",
    "    print('Holonyms: ', term.get('holonyms'))\n",
    "    print('Hypernyms [L1]: ', term.get('hypernyms [L1]'))\n",
    "    print('Hypernyms [L2]: ', term.get('hypernyms [L2]'))\n",
    "    print('Hypernyms [L3]: ', term.get('hypernyms [L3]'))\n",
    "    print('Hyponyms [L1]: ', term.get('hyponyms [L1]'))\n",
    "    print('Hyponyms [L2]: ', term.get('hyponyms [L2]'))\n",
    "    print('Hyponyms [L3]: ', term.get('hyponyms [L3]'))\n",
    "    print('\\n\\n\\n---\\n\\n\\n')\n",
    "\n",
    "print('\\n\\n\\n------------------------------------------------------------\\n\\n\\n')\n",
    "\n",
    "sr2 = synset_relations(threat2)\n",
    "print(f'Synset relations for threat: \"{threat2}\"\\n')\n",
    "for term in sr1.get('terms'):\n",
    "    print('Term: ', term.get('term'))\n",
    "    print('Synonyms: ', term.get('synonyms'))\n",
    "    print('Meronyms: ', term.get('meronyms'))\n",
    "    print('Holonyms: ', term.get('holonyms'))\n",
    "    print('Hypernyms [L1]: ', term.get('hypernyms [L1]'))\n",
    "    print('Hypernyms [L2]: ', term.get('hypernyms [L2]'))\n",
    "    print('Hypernyms [L3]: ', term.get('hypernyms [L3]'))\n",
    "    print('Hyponyms [L1]: ', term.get('hyponyms [L1]'))\n",
    "    print('Hyponyms [L2]: ', term.get('hyponyms [L2]'))\n",
    "    print('Hyponyms [L3]: ', term.get('hyponyms [L3]'))\n",
    "    print('\\n\\n\\n---\\n\\n\\n')"
   ]
  },
  {
   "attachments": {},
   "cell_type": "markdown",
   "metadata": {},
   "source": [
    "### Check Relationship Between Two Terms\n",
    "\n",
    "We can check if two terms have a \"type of\" synset relation with the following code."
   ]
  },
  {
   "cell_type": "code",
   "execution_count": 62,
   "metadata": {},
   "outputs": [],
   "source": [
    "def check_typeof_synset_relationship(term1: str, term2: str) -> bool:\n",
    "    '''\n",
    "    Check whether two terms have a \"type of\" synset relation.\n",
    "    '''\n",
    "    common_hypernyms = set()\n",
    "    result = False\n",
    "\n",
    "    synsets1 = synsets(term1)\n",
    "    synsets2 = synsets(term2)\n",
    "    if not synsets1 or not synsets2:\n",
    "        print('One or both terms do not have synsets in WordNet.')\n",
    "        return False\n",
    "\n",
    "    for synset1 in synsets1:\n",
    "        for synset2 in synsets2:\n",
    "            if synset1 in list(synset2.closure(hypo, depth=3)):\n",
    "                print(f'{term1} is a hyponym of {term2}')\n",
    "                result = True\n",
    "            elif synset1 in list(synset2.closure(hyper, depth=3)):\n",
    "                print(f'{term1} is a hypernym of {term2}')\n",
    "                result = True\n",
    "            elif synset2 in list(synset1.closure(hypo, depth=3)):\n",
    "                print(f'{term2} is a hyponym of {term1}')\n",
    "                result = True\n",
    "            elif synset2 in list(synset1.closure(hyper, depth=3)):\n",
    "                print(f'{term2} is a hypernym of {term1}')\n",
    "                result = True\n",
    "            common_hypernyms.update(set(synset1.lowest_common_hypernyms(synset2)))\n",
    "\n",
    "    if common_hypernyms:\n",
    "        common_hypernym_names = list(set(hypernym.name().split('.')[0] for hypernym in common_hypernyms))\n",
    "        print(f'{term1} and {term2} have common hypernyms: {\", \".join(common_hypernym_names)}')\n",
    "        result = True\n",
    "\n",
    "    if result == False:\n",
    "        print(f'{term1} and {term2} are not related (\"type of\")')\n",
    "    return result"
   ]
  },
  {
   "attachments": {},
   "cell_type": "markdown",
   "metadata": {},
   "source": [
    "#### Example"
   ]
  },
  {
   "cell_type": "code",
   "execution_count": 67,
   "metadata": {},
   "outputs": [
    {
     "name": "stdout",
     "output_type": "stream",
     "text": [
      "car is a hyponym of vehicle\n",
      "car and vehicle have common hypernyms: object, instrumentality, physical_entity, vehicle, artifact\n"
     ]
    },
    {
     "name": "stderr",
     "output_type": "stream",
     "text": [
      "/Users/mario/Desktop/GitHub Repos/NLP-Threat-Modelling/venv/lib/python3.10/site-packages/nltk/corpus/reader/wordnet.py:604: UserWarning: Discarded redundant search for Synset('personnel_carrier.n.01') at depth 3\n",
      "  for synset in acyclic_breadth_first(self, rel, depth):\n",
      "/Users/mario/Desktop/GitHub Repos/NLP-Threat-Modelling/venv/lib/python3.10/site-packages/nltk/corpus/reader/wordnet.py:604: UserWarning: Discarded redundant search for Synset('reconnaissance_vehicle.n.01') at depth 3\n",
      "  for synset in acyclic_breadth_first(self, rel, depth):\n",
      "/Users/mario/Desktop/GitHub Repos/NLP-Threat-Modelling/venv/lib/python3.10/site-packages/nltk/corpus/reader/wordnet.py:604: UserWarning: Discarded redundant search for Synset('weapons_carrier.n.01') at depth 3\n",
      "  for synset in acyclic_breadth_first(self, rel, depth):\n"
     ]
    },
    {
     "data": {
      "text/plain": [
       "True"
      ]
     },
     "execution_count": 67,
     "metadata": {},
     "output_type": "execute_result"
    }
   ],
   "source": [
    "# Get and print \"type of\" synset relationship between term1 and term2\n",
    "term1 = 'car'\n",
    "term2 = 'vehicle'\n",
    "check_typeof_synset_relationship(term1, term2)"
   ]
  },
  {
   "attachments": {},
   "cell_type": "markdown",
   "metadata": {},
   "source": [
    "We can check if two terms have a \"part of\" synset relation with the following code."
   ]
  },
  {
   "cell_type": "code",
   "execution_count": 24,
   "metadata": {},
   "outputs": [],
   "source": [
    "def check_partof_synset_relationship(term1: str, term2: str) -> bool:\n",
    "    '''\n",
    "    Check whether two terms have a \"part of\" synset relation.\n",
    "    '''\n",
    "    result = False\n",
    "\n",
    "    synsets1 = synsets(term1)\n",
    "    synsets2 = synsets(term2)\n",
    "    if not synsets1 or not synsets2:\n",
    "        print('One or both terms do not have synsets in WordNet.')\n",
    "        return False\n",
    "\n",
    "    for synset1 in synsets1:\n",
    "        for synset2 in synsets2:\n",
    "            if synset1 in list(synset2.closure(part_holo, depth=3)):\n",
    "                print(f'{term1} is a holonym of {term2}')\n",
    "                result = True\n",
    "            elif synset1 in list(synset2.closure(part_mero, depth=3)):\n",
    "                print(f'{term1} is a meronym of {term2}')\n",
    "                result = True\n",
    "            elif synset2 in list(synset1.closure(part_holo, depth=3)):\n",
    "                print(f'{term2} is a holonym of {term1}')\n",
    "                result = True\n",
    "            elif synset2 in list(synset1.closure(part_mero, depth=3)):\n",
    "                print(f'{term2} is a meronym of {term1}')\n",
    "                result = True\n",
    "\n",
    "    if result == False:\n",
    "        print(f'{term1} and {term2} are not related (\"part of\")')\n",
    "    return result"
   ]
  },
  {
   "attachments": {},
   "cell_type": "markdown",
   "metadata": {},
   "source": [
    "#### Example"
   ]
  },
  {
   "cell_type": "code",
   "execution_count": 25,
   "metadata": {},
   "outputs": [
    {
     "name": "stdout",
     "output_type": "stream",
     "text": [
      "car is a holonym of window\n"
     ]
    },
    {
     "data": {
      "text/plain": [
       "True"
      ]
     },
     "execution_count": 25,
     "metadata": {},
     "output_type": "execute_result"
    }
   ],
   "source": [
    "# Get and print \"part of\" synset relationship between term1 and term2\n",
    "term1 = 'car'\n",
    "term2 = 'window'\n",
    "check_partof_synset_relationship(term1, term2)"
   ]
  }
 ],
 "metadata": {
  "kernelspec": {
   "display_name": "venv",
   "language": "python",
   "name": "python3"
  },
  "language_info": {
   "codemirror_mode": {
    "name": "ipython",
    "version": 3
   },
   "file_extension": ".py",
   "mimetype": "text/x-python",
   "name": "python",
   "nbconvert_exporter": "python",
   "pygments_lexer": "ipython3",
   "version": "3.10.11"
  },
  "orig_nbformat": 4
 },
 "nbformat": 4,
 "nbformat_minor": 2
}
