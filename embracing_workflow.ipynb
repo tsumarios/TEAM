{
 "cells": [
  {
   "attachments": {},
   "cell_type": "markdown",
   "metadata": {},
   "source": [
    "# Semi-Automated Embracing Approach Workflow\n",
    "\n",
    "..."
   ]
  },
  {
   "cell_type": "code",
   "execution_count": null,
   "metadata": {},
   "outputs": [],
   "source": [
    "from embracing import step1, step2, step3, synset_relations\n",
    "from ipywidgets import widgets\n",
    "from itables import init_notebook_mode\n",
    "\n",
    "\n",
    "init_notebook_mode(all_interactive=True)"
   ]
  },
  {
   "attachments": {},
   "cell_type": "markdown",
   "metadata": {},
   "source": [
    "### Preliminary Threats Upload\n",
    "\n",
    "Please upload the preliminary threats list in CSV format (suggested path: `./data/<file>.csv`).\n",
    "Once the file has been uploaded, you can proceed and run the next cell."
   ]
  },
  {
   "cell_type": "code",
   "execution_count": 2,
   "metadata": {},
   "outputs": [
    {
     "name": "stdout",
     "output_type": "stream",
     "text": [
      "Similarity score range is between -0.1 and 0.82\n"
     ]
    }
   ],
   "source": [
    "threat_list_path = input(\"Please specify the path to your threat list (csv)\")\n",
    "\n",
    "min_score, max_score = step1(threat_list_path)\n",
    "print(f\"Similarity score range is between {min_score} and {max_score}\")"
   ]
  },
  {
   "attachments": {},
   "cell_type": "markdown",
   "metadata": {},
   "source": [
    "### Set Semantic Similarity Score Threshold\n",
    "\n",
    "Please set your desirable semantic similarity score threshold by running the following cell."
   ]
  },
  {
   "cell_type": "code",
   "execution_count": 3,
   "metadata": {},
   "outputs": [
    {
     "data": {
      "application/vnd.jupyter.widget-view+json": {
       "model_id": "859e80300d1a4803885a0b95ac3bae53",
       "version_major": 2,
       "version_minor": 0
      },
      "text/plain": [
       "FloatSlider(value=0.0, description='threshold:', max=0.82, min=-0.1, step=0.01)"
      ]
     },
     "execution_count": 3,
     "metadata": {},
     "output_type": "execute_result"
    }
   ],
   "source": [
    "ss_threshold = widgets.FloatSlider(min=min_score, max=max_score, step=0.01, description='threshold:', readout_format='.2f')\n",
    "ss_threshold"
   ]
  },
  {
   "attachments": {},
   "cell_type": "markdown",
   "metadata": {},
   "source": [
    "### Threat Pairs Inspection\n",
    "\n",
    "Now you are able to further investigate all the threat pairs with a score equal or greater to such a threshold. To display the table, please run the following cell."
   ]
  },
  {
   "cell_type": "code",
   "execution_count": 4,
   "metadata": {},
   "outputs": [
    {
     "name": "stdout",
     "output_type": "stream",
     "text": [
      "The list of embraceable candidates above the threshold 0.5600000000000002 contains 77 pairs.\n"
     ]
    },
    {
     "data": {
      "text/html": [
       "<style>.itables table td {\n",
       "    text-overflow: ellipsis;\n",
       "    overflow: hidden;\n",
       "}\n",
       "\n",
       ".itables table th {\n",
       "    text-overflow: ellipsis;\n",
       "    overflow: hidden;\n",
       "}\n",
       "\n",
       ".itables thead input {\n",
       "    width: 100%;\n",
       "    padding: 3px;\n",
       "    box-sizing: border-box;\n",
       "}\n",
       "\n",
       ".itables tfoot input {\n",
       "    width: 100%;\n",
       "    padding: 3px;\n",
       "    box-sizing: border-box;\n",
       "}\n",
       "</style>\n",
       "<div class=\"itables\">\n",
       "<table id=\"4027b343-4877-46c2-8f9f-bba0a2c227f0\" class=\"display nowrap\"style=\"table-layout:auto;width:auto;margin:auto;caption-side:bottom\"><thead>\n",
       "    <tr style=\"text-align: right;\">\n",
       "      <th></th>\n",
       "      <th>sentence1</th>\n",
       "      <th>sentence2</th>\n",
       "      <th>score</th>\n",
       "    </tr>\n",
       "  </thead><tbody><tr><td>Loading... (need <a href=https://mwouts.github.io/itables/troubleshooting.html>help</a>?)</td></tr></tbody></table>\n",
       "<script>\n",
       "    // We use a namespace per table (= the next curly bracket)\n",
       "    // to avoid conflicts between the various tables' data & dt_args\n",
       "    {\n",
       "        // Define the table data\n",
       "        const data = [[148, \"Malware\", \"Mobile App malware\", 0.573813], [187, \"Manipulation of hardware and software\", \"Manipulation of information\", 0.655521], [201, \"Manipulation of hardware and software\", \"Software vulnerabilities exploitation\", 0.589752], [220, \"Manipulation of hardware and software\", \"An adversary can execute arbitrary code on the telematics unit (TCU) and take control of the device.\", 0.581725], [224, \"Manipulation of hardware and software\", \"Attacker can moditv the hardware ov changina or disabling ohvsica sensors. memories and features.\", 0.615692], [226, \"Manipulation of hardware and software\", \"Attacker operates phisically on the TC by tampering the device firmware.\", 0.566555], [227, \"Manipulation of hardware and software\", \"An attacker could perform remote control by installing remotely his own software on the device.\", 0.575561], [229, \"Manipulation of hardware and software\", \"An adversary can exploit the vulnerabilities o USB svstems on-board venice.\", 0.576254], [289, \"Manipulation of information\", \"Theft\", 0.573706], [325, \"Manipulation of information\", \"Mobile App spoofing\", 0.575661], [365, \"Manipulation of information\", \"Misleading Content\", 0.623631], [642, \"Vandalism\", \"Sabotage\", 0.656608], [643, \"Vandalism\", \"Theft\", 0.599218], [733, \"Network outage\", \"Failure or Disruption of service\", 0.654458], [981, \"Identity theft\", \"Theft\", 0.622252], [1519, \"Software vulnerabilities exploitation\", \"Web Application Vulnerabilities\", 0.705395], [1839, \"Unintentional change of data or car components configuration\", \"Erroneous use or configuration of car components\", 0.766479], [1845, \"Unintentional change of data or car components configuration\", \"Attacker modifies the path of the sensitive data circulating in the vehicle.\", 0.589352], [1886, \"Unintentional change of data or car components configuration\", \"Infotainment Alteration\", 0.568995], [1955, \"Information leakage\", \"Data loss\", 0.574238], [1961, \"Information leakage\", \"Operator-sided Data Leakage\", 0.711944], [2045, \"Using information and/or devices from an unreliable source\", \"Misleading Content\", 0.623564], [2087, \"Erroneous use or configuration of car components\", \"Infotainment reverse engineering\", 0.565082], [2390, \"Attacker injects CAN messages/codes via any ECUs connected to the bus.\", \"An adversary can execute arbitrary code on the telematics unit (TCU) and take control of the device.\", 0.655778], [2393, \"Attacker injects CAN messages/codes via any ECUs connected to the bus.\", \"Attacker can edit, add, manipuler codes and framework of the must ECUs in the vehcles.\", 0.561769], [2395, \"Attacker injects CAN messages/codes via any ECUs connected to the bus.\", \"An attacker changes circuits of a device to extractsensitive data, such as cryptographic keys.\", 0.606806], [2396, \"Attacker injects CAN messages/codes via any ECUs connected to the bus.\", \"Attacker operates phisically on the TC by tampering the device firmware.\", 0.607286], [2458, \"Attacker modifies the path of the sensitive data circulating in the vehicle.\", \"An attacker changes circuits of a device to extractsensitive data, such as cryptographic keys.\", 0.592781], [2515, \"Attacker remotely accesses via telematics systems (TCU).\", \"An adversary can execute arbitrary code on the telematics unit (TCU) and take control of the device.\", 0.814812], [2519, \"Attacker remotely accesses via telematics systems (TCU).\", \"Attacker can moditv the hardware ov changina or disabling ohvsica sensors. memories and features.\", 0.570636], [2521, \"Attacker remotely accesses via telematics systems (TCU).\", \"Attacker operates phisically on the TC by tampering the device firmware.\", 0.562028], [2522, \"Attacker remotely accesses via telematics systems (TCU).\", \"An attacker could perform remote control by installing remotely his own software on the device.\", 0.638045], [2586, \"An adversary can capture, analyze, and replaye the messages.\", \"An adversary can identify or track the vehicle from the sensor.\", 0.571975], [2587, \"An adversary can capture, analyze, and replaye the messages.\", \"For wireless communication channel, messages can be captured, analyze, and replayed.\", 0.667772], [2646, \"An adversary could link the messages to a specific vehicle.\", \"An adversary can identify or track the vehicle from the sensor.\", 0.818624], [2648, \"An adversary could link the messages to a specific vehicle.\", \"Possibility to discover and control the behaviour and profile of the driver.\", 0.580923], [2649, \"An adversary could link the messages to a specific vehicle.\", \"An adversary relates pseudonymous positions to specific vehicles.\", 0.705839], [2700, \"An adversary can crack a weak password.\", \"An attacker changes circuits of a device to extractsensitive data, such as cryptographic keys.\", 0.622492], [2704, \"An adversary can crack a weak password.\", \"An adversary can exploit the vulnerabilities o USB svstems on-board venice.\", 0.569821], [2710, \"An adversary can crack a weak password.\", \"Smart key bruteforcing\", 0.560211], [2728, \"An adversary can crack a weak password.\", \"Smart key jamming\", 0.574889], [2757, \"An adversary can execute arbitrary code on the telematics unit (TCU) and take control of the device.\", \"Attacker can moditv the hardware ov changina or disabling ohvsica sensors. memories and features.\", 0.674429], [2758, \"An adversary can execute arbitrary code on the telematics unit (TCU) and take control of the device.\", \"An attacker changes circuits of a device to extractsensitive data, such as cryptographic keys.\", 0.683586], [2759, \"An adversary can execute arbitrary code on the telematics unit (TCU) and take control of the device.\", \"Attacker operates phisically on the TC by tampering the device firmware.\", 0.693854], [2760, \"An adversary can execute arbitrary code on the telematics unit (TCU) and take control of the device.\", \"An attacker could perform remote control by installing remotely his own software on the device.\", 0.738687], [2762, \"An adversary can execute arbitrary code on the telematics unit (TCU) and take control of the device.\", \"An adversary can exploit the vulnerabilities o USB svstems on-board venice.\", 0.632274], [2891, \"Spying, SMS Interception & Modification, User Tracking.\", \"CAN eavesdropping\", 0.560961], [2980, \"Attacker can moditv the hardware ov changina or disabling ohvsica sensors. memories and features.\", \"An attacker changes circuits of a device to extractsensitive data, such as cryptographic keys.\", 0.585535], [2982, \"Attacker can moditv the hardware ov changina or disabling ohvsica sensors. memories and features.\", \"An attacker could perform remote control by installing remotely his own software on the device.\", 0.653571], [2984, \"Attacker can moditv the hardware ov changina or disabling ohvsica sensors. memories and features.\", \"An adversary can exploit the vulnerabilities o USB svstems on-board venice.\", 0.562562], [3034, \"An attacker changes circuits of a device to extractsensitive data, such as cryptographic keys.\", \"Attacker operates phisically on the TC by tampering the device firmware.\", 0.656698], [3035, \"An attacker changes circuits of a device to extractsensitive data, such as cryptographic keys.\", \"An attacker could perform remote control by installing remotely his own software on the device.\", 0.564164], [3061, \"An attacker changes circuits of a device to extractsensitive data, such as cryptographic keys.\", \"Smart key jamming\", 0.649384], [3087, \"Attacker operates phisically on the TC by tampering the device firmware.\", \"An attacker could perform remote control by installing remotely his own software on the device.\", 0.648913], [3088, \"Attacker operates phisically on the TC by tampering the device firmware.\", \"Reprogramming the USB/CD device's firmware to execute malicious actions.\", 0.641126], [3094, \"Attacker operates phisically on the TC by tampering the device firmware.\", \"Mobile App spoofing\", 0.594185], [3100, \"Attacker operates phisically on the TC by tampering the device firmware.\", \"Mobile App malware\", 0.587862], [3139, \"An attacker could perform remote control by installing remotely his own software on the device.\", \"Reprogramming the USB/CD device's firmware to execute malicious actions.\", 0.629921], [3190, \"Reprogramming the USB/CD device's firmware to execute malicious actions.\", \"An adversary can exploit the vulnerabilities o USB svstems on-board venice.\", 0.632418], [3290, \"An adversary can identify or track the vehicle from the sensor.\", \"Possibility to discover and control the behaviour and profile of the driver.\", 0.631839], [3291, \"An adversary can identify or track the vehicle from the sensor.\", \"An adversary relates pseudonymous positions to specific vehicles.\", 0.580169], [3480, \"Mobile App spoofing\", \"Mobile App malware\", 0.758532], [3514, \"Mobile App spoofing\", \"Misleading Content\", 0.579242], [3536, \"Smart key bruteforcing\", \"Smart key jamming\", 0.61308], [3578, \"Smart key cloning\", \"Smart key jamming\", 0.645937], [3650, \"V2X Message replay\", \"V2X data tampering\", 0.600567], [3657, \"V2X Message replay\", \"V2X eavesdropping\", 0.621517], [3661, \"V2X Message replay\", \"V2X DoS\", 0.648894], [3876, \"V2X data tampering\", \"V2X eavesdropping\", 0.679367], [3880, \"V2X data tampering\", \"V2X DoS\", 0.682754], [3909, \"CAN eavesdropping\", \"V2X eavesdropping\", 0.618304], [3977, \"Infotainment reverse engineering\", \"Infotainment Alteration\", 0.600613], [4023, \"Insecure API endpoint\", \"Insecure Data Transfer\", 0.669211], [4090, \"V2X eavesdropping\", \"V2X DoS\", 0.654126], [4319, \"Insufficient Data Breach Response\", \"Insufficient Data Structure Model to handle user rights\", 0.624751], [4352, \"Non-transparent Policies, Agreements, Terms and Conditions\", \"Inappropriate Policies, Terms and Conditions\", 0.666409], [4431, \"Sharing of Data with 3rd Party\", \"Transfer or Processing through 3rd Party\", 0.813606]];\n",
       "        // Display the table\n",
       "        $(document).ready(function () {\n",
       "            window.dataTablePromise.then(() => {\n",
       "                // Define the dt_args\n",
       "                let dt_args = {\"order\": []};\n",
       "                dt_args[\"data\"] = data;\n",
       "\n",
       "                \n",
       "                $('#4027b343-4877-46c2-8f9f-bba0a2c227f0').DataTable(dt_args);\n",
       "            });\n",
       "        })\n",
       "    }\n",
       "</script>\n",
       "</div>\n"
      ],
      "text/plain": [
       "                                              sentence1   \n",
       "148                                             Malware  \\\n",
       "187               Manipulation of hardware and software   \n",
       "201               Manipulation of hardware and software   \n",
       "220               Manipulation of hardware and software   \n",
       "224               Manipulation of hardware and software   \n",
       "...                                                 ...   \n",
       "4023                              Insecure API endpoint   \n",
       "4090                                  V2X eavesdropping   \n",
       "4319                  Insufficient Data Breach Response   \n",
       "4352  Non-transparent Policies, Agreements, Terms an...   \n",
       "4431                     Sharing of Data with 3rd Party   \n",
       "\n",
       "                                              sentence2     score  \n",
       "148                                  Mobile App malware  0.573813  \n",
       "187                         Manipulation of information  0.655521  \n",
       "201               Software vulnerabilities exploitation  0.589752  \n",
       "220   An adversary can execute arbitrary code on the...  0.581725  \n",
       "224   Attacker can moditv the hardware ov changina o...  0.615692  \n",
       "...                                                 ...       ...  \n",
       "4023                             Insecure Data Transfer  0.669211  \n",
       "4090                                            V2X DoS  0.654126  \n",
       "4319  Insufficient Data Structure Model to handle us...  0.624751  \n",
       "4352       Inappropriate Policies, Terms and Conditions  0.666409  \n",
       "4431           Transfer or Processing through 3rd Party  0.813606  \n",
       "\n",
       "[77 rows x 3 columns]"
      ]
     },
     "execution_count": 4,
     "metadata": {},
     "output_type": "execute_result"
    }
   ],
   "source": [
    "embraceable_candidates = step2(f'{threat_list_path.split(\".csv\")[0]}_semantic_similarity_scores.csv', ss_threshold.value)\n",
    "print(f'The list of embraceable candidates above the threshold {ss_threshold.value} contains {len(embraceable_candidates)} pairs.')\n",
    "embraceable_candidates"
   ]
  },
  {
   "attachments": {},
   "cell_type": "markdown",
   "metadata": {},
   "source": [
    "Once you identified a row of interest, run the following cell and specify the index of such a row."
   ]
  },
  {
   "cell_type": "code",
   "execution_count": 8,
   "metadata": {},
   "outputs": [
    {
     "data": {
      "text/html": [
       "<style>.itables table td {\n",
       "    text-overflow: ellipsis;\n",
       "    overflow: hidden;\n",
       "}\n",
       "\n",
       ".itables table th {\n",
       "    text-overflow: ellipsis;\n",
       "    overflow: hidden;\n",
       "}\n",
       "\n",
       ".itables thead input {\n",
       "    width: 100%;\n",
       "    padding: 3px;\n",
       "    box-sizing: border-box;\n",
       "}\n",
       "\n",
       ".itables tfoot input {\n",
       "    width: 100%;\n",
       "    padding: 3px;\n",
       "    box-sizing: border-box;\n",
       "}\n",
       "</style>\n",
       "<div class=\"itables\">\n",
       "<table id=\"bbe0a8a5-0f52-4187-a2d2-1e3860d6b64a\" class=\"display nowrap\"style=\"table-layout:auto;width:auto;margin:auto;caption-side:bottom\"><thead>\n",
       "    <tr style=\"text-align: right;\">\n",
       "      <th></th>\n",
       "      <th>sentence1</th>\n",
       "      <th>sentence2</th>\n",
       "      <th>score</th>\n",
       "    </tr>\n",
       "  </thead><tbody><tr><td>Loading... (need <a href=https://mwouts.github.io/itables/troubleshooting.html>help</a>?)</td></tr></tbody></table>\n",
       "<script>\n",
       "    // We use a namespace per table (= the next curly bracket)\n",
       "    // to avoid conflicts between the various tables' data & dt_args\n",
       "    {\n",
       "        // Define the table data\n",
       "        const data = [[1845, \"Unintentional change of data or car components configuration\", \"Attacker modifies the path of the sensitive data circulating in the vehicle.\", 0.589352]];\n",
       "        // Display the table\n",
       "        $(document).ready(function () {\n",
       "            window.dataTablePromise.then(() => {\n",
       "                // Define the dt_args\n",
       "                let dt_args = {\"order\": [], \"dom\": \"t\"};\n",
       "                dt_args[\"data\"] = data;\n",
       "\n",
       "                \n",
       "                $('#bbe0a8a5-0f52-4187-a2d2-1e3860d6b64a').DataTable(dt_args);\n",
       "            });\n",
       "        })\n",
       "    }\n",
       "</script>\n",
       "</div>\n"
      ],
      "text/plain": [
       "                                              sentence1   \n",
       "1845  Unintentional change of data or car components...  \\\n",
       "\n",
       "                                              sentence2     score  \n",
       "1845  Attacker modifies the path of the sensitive da...  0.589352  "
      ]
     },
     "execution_count": 8,
     "metadata": {},
     "output_type": "execute_result"
    }
   ],
   "source": [
    "index_to_embrace = int(input('Please specify the index of the pair you want to embrace.'))\n",
    "embraceable_candidates.iloc[embraceable_candidates.index==index_to_embrace]\n"
   ]
  },
  {
   "attachments": {},
   "cell_type": "markdown",
   "metadata": {},
   "source": [
    "### Synset Relations Among Nouns in Target Threat Pairs\n",
    "\n",
    "Now that you shifted the focus of the analysis on a specific threat pair, run the following cell to obtain automatically identified (if present) synset relations."
   ]
  },
  {
   "cell_type": "code",
   "execution_count": 9,
   "metadata": {},
   "outputs": [
    {
     "name": "stdout",
     "output_type": "stream",
     "text": [
      "car.n.02 is a hyponym of vehicle.n.01\n",
      "False True\n"
     ]
    }
   ],
   "source": [
    "s1 = embraceable_candidates.iloc[embraceable_candidates.index==index_to_embrace]['sentence1'].values[0]\n",
    "s2 = embraceable_candidates.iloc[embraceable_candidates.index==index_to_embrace]['sentence2'].values[0]\n",
    "is_partof, is_typeof = step3(s1, s2)\n",
    "print(is_partof, is_typeof)"
   ]
  },
  {
   "attachments": {},
   "cell_type": "markdown",
   "metadata": {},
   "source": [
    "To support the most appropriate choice of wording/level of detail, run the last cell for an overview of the synset relations related to the nouns identified in both threat labels."
   ]
  },
  {
   "cell_type": "code",
   "execution_count": 10,
   "metadata": {},
   "outputs": [
    {
     "data": {
      "text/html": [
       "<style>.itables table td {\n",
       "    text-overflow: ellipsis;\n",
       "    overflow: hidden;\n",
       "}\n",
       "\n",
       ".itables table th {\n",
       "    text-overflow: ellipsis;\n",
       "    overflow: hidden;\n",
       "}\n",
       "\n",
       ".itables thead input {\n",
       "    width: 100%;\n",
       "    padding: 3px;\n",
       "    box-sizing: border-box;\n",
       "}\n",
       "\n",
       ".itables tfoot input {\n",
       "    width: 100%;\n",
       "    padding: 3px;\n",
       "    box-sizing: border-box;\n",
       "}\n",
       "</style>\n",
       "<div class=\"itables\">\n",
       "<table id=\"4425e04c-b9b3-4665-97a0-f9b2615d377d\" class=\"display nowrap\"style=\"table-layout:auto;width:auto;margin:auto;caption-side:bottom\"><thead>\n",
       "    <tr style=\"text-align: right;\">\n",
       "      <th></th>\n",
       "      <th>term</th>\n",
       "      <th>synonyms</th>\n",
       "      <th>meronyms</th>\n",
       "      <th>holonyms</th>\n",
       "      <th>hypernyms [L1]</th>\n",
       "      <th>hypernyms [L2]</th>\n",
       "      <th>hypernyms [L3]</th>\n",
       "      <th>hyponyms [L1]</th>\n",
       "      <th>hyponyms [L2]</th>\n",
       "      <th>hyponyms [L3]</th>\n",
       "    </tr>\n",
       "  </thead><tbody><tr><td>Loading... (need <a href=https://mwouts.github.io/itables/troubleshooting.html>help</a>?)</td></tr></tbody></table>\n",
       "<script>\n",
       "    // We use a namespace per table (= the next curly bracket)\n",
       "    // to avoid conflicts between the various tables' data & dt_args\n",
       "    {\n",
       "        // Define the table data\n",
       "        const data = [[0, \"Synset('change.n.01')\", \"[Synset('change.n.01'), Synset('change.n.02'), Synset('change.n.03'), Synset('change.n.04'), Synset('change.n.05'), Synset('change.n.06'), Synset('change.n.07'), Synset('change.n.08'), Synset('change.n.09'), Synset('variety.n.06'), Synset('change.v.01'), Synset('change.v.02'), Synset('change.v.03'), Synset('switch.v.03'), Synset('change.v.05'), Synset('change.v.06'), Synset('exchange.v.01'), Synset('transfer.v.06'), Synset('deepen.v.04'), Synset('change.v.10')]\", \"[]\", \"[]\", \"[Synset('happening.n.01')]\", \"[Synset('happening.n.01'), Synset('event.n.01')]\", \"[Synset('happening.n.01'), Synset('event.n.01'), Synset('psychological_feature.n.01')]\", \"[Synset('acceleration.n.01'), Synset('avulsion.n.01'), Synset('birth.n.02'), Synset('break.n.10'), Synset('conversion.n.06'), Synset('damage.n.01'), Synset('death.n.01'), Synset('deceleration.n.01'), Synset('decrease.n.01'), Synset('deformation.n.02'), Synset('destabilization.n.01'), Synset('development.n.04'), Synset('easing.n.01'), Synset('increase.n.02'), Synset('loss_of_consciousness.n.01'), Synset('mutation.n.02'), Synset('mutation.n.03'), Synset('revolution.n.01'), Synset('separation.n.02'), Synset('sex_change.n.01'), Synset('shimmer.n.01'), Synset('sublimation.n.02'), Synset('surprise.n.02'), Synset('transformation.n.01'), Synset('transition.n.03'), Synset('transmutation.n.03'), Synset('twinkle.n.01'), Synset('vagary.n.01'), Synset('variation.n.01')]\", \"[Synset('acceleration.n.01'), Synset('avulsion.n.01'), Synset('birth.n.02'), Synset('break.n.10'), Synset('conversion.n.06'), Synset('damage.n.01'), Synset('death.n.01'), Synset('deceleration.n.01'), Synset('decrease.n.01'), Synset('deformation.n.02'), Synset('destabilization.n.01'), Synset('development.n.04'), Synset('easing.n.01'), Synset('increase.n.02'), Synset('loss_of_consciousness.n.01'), Synset('mutation.n.02'), Synset('mutation.n.03'), Synset('revolution.n.01'), Synset('separation.n.02'), Synset('sex_change.n.01'), Synset('shimmer.n.01'), Synset('sublimation.n.02'), Synset('surprise.n.02'), Synset('transformation.n.01'), Synset('transition.n.03'), Synset('transmutation.n.03'), Synset('twinkle.n.01'), Synset('vagary.n.01'), Synset('variation.n.01'), Synset('pickup.n.05'), Synset('precipitation.n.05'), Synset('delivery.n.02'), Synset('live_birth.n.01'), Synset('posthumous_birth.n.01'), Synset('posthumous_birth.n.02'), Synset('reincarnation.n.02'), Synset('christianization.n.01'), Synset('detriment.n.01'), Synset('distortion.n.01'), Synset('run.n.13'), Synset('fatality.n.01'), Synset('martyrdom.n.01'), Synset('megadeath.n.01'), Synset('passing.n.02'), Synset('wrongful_death.n.01'), Synset('attrition.n.04'), Synset('casualty.n.04'), Synset('dwindling.n.01'), Synset('shrinking.n.01'), Synset('sinking.n.02'), Synset('waning.n.01'), Synset('shear.n.01'), Synset('strain.n.01'), Synset('complication.n.04'), Synset('phenomenon.n.02'), Synset('turn.n.04'), Synset('breath_of_fresh_air.n.01'), Synset('disembarrassment.n.01'), Synset('augmentation.n.01'), Synset('concentration.n.04'), Synset('explosion.n.03'), Synset('jump.n.01'), Synset('runup.n.01'), Synset('waxing.n.02'), Synset('faint.n.01'), Synset('deletion.n.02'), Synset('inversion.n.04'), Synset('point_mutation.n.01'), Synset('reversion.n.02'), Synset('saltation.n.02'), Synset('transposition.n.03'), Synset('cultural_revolution.n.01'), Synset('green_revolution.n.01'), Synset('break.n.09'), Synset('rupture.n.02'), Synset('bombshell.n.02'), Synset('coup_de_theatre.n.01'), Synset('eye_opener.n.02'), Synset('peripeteia.n.01'), Synset('shock.n.06'), Synset('stunner.n.02'), Synset('conversion.n.01'), Synset('degeneration.n.03'), Synset('improvement.n.01'), Synset('population_shift.n.01'), Synset('pyrolysis.n.01'), Synset('sea_change.n.01'), Synset('strengthening.n.01'), Synset('sublimation.n.01'), Synset('tin_pest.n.01'), Synset('weakening.n.01'), Synset('ground_swell.n.01'), Synset('leap.n.02'), Synset('allomerism.n.01'), Synset('business_cycle.n.01'), Synset('daily_variation.n.01'), Synset('deviation.n.01'), Synset('diurnal_variation.n.01'), Synset('substitution.n.01'), Synset('tide.n.02'), ...]\", \"[Synset('acceleration.n.01'), Synset('avulsion.n.01'), Synset('birth.n.02'), Synset('break.n.10'), Synset('conversion.n.06'), Synset('damage.n.01'), Synset('death.n.01'), Synset('deceleration.n.01'), Synset('decrease.n.01'), Synset('deformation.n.02'), Synset('destabilization.n.01'), Synset('development.n.04'), Synset('easing.n.01'), Synset('increase.n.02'), Synset('loss_of_consciousness.n.01'), Synset('mutation.n.02'), Synset('mutation.n.03'), Synset('revolution.n.01'), Synset('separation.n.02'), Synset('sex_change.n.01'), Synset('shimmer.n.01'), Synset('sublimation.n.02'), Synset('surprise.n.02'), Synset('transformation.n.01'), Synset('transition.n.03'), Synset('transmutation.n.03'), Synset('twinkle.n.01'), Synset('vagary.n.01'), Synset('variation.n.01'), Synset('pickup.n.05'), Synset('precipitation.n.05'), Synset('delivery.n.02'), Synset('live_birth.n.01'), Synset('posthumous_birth.n.01'), Synset('posthumous_birth.n.02'), Synset('reincarnation.n.02'), Synset('christianization.n.01'), Synset('detriment.n.01'), Synset('distortion.n.01'), Synset('run.n.13'), Synset('fatality.n.01'), Synset('martyrdom.n.01'), Synset('megadeath.n.01'), Synset('passing.n.02'), Synset('wrongful_death.n.01'), Synset('attrition.n.04'), Synset('casualty.n.04'), Synset('dwindling.n.01'), Synset('shrinking.n.01'), Synset('sinking.n.02'), Synset('waning.n.01'), Synset('shear.n.01'), Synset('strain.n.01'), Synset('complication.n.04'), Synset('phenomenon.n.02'), Synset('turn.n.04'), Synset('breath_of_fresh_air.n.01'), Synset('disembarrassment.n.01'), Synset('augmentation.n.01'), Synset('concentration.n.04'), Synset('explosion.n.03'), Synset('jump.n.01'), Synset('runup.n.01'), Synset('waxing.n.02'), Synset('faint.n.01'), Synset('deletion.n.02'), Synset('inversion.n.04'), Synset('point_mutation.n.01'), Synset('reversion.n.02'), Synset('saltation.n.02'), Synset('transposition.n.03'), Synset('cultural_revolution.n.01'), Synset('green_revolution.n.01'), Synset('break.n.09'), Synset('rupture.n.02'), Synset('bombshell.n.02'), Synset('coup_de_theatre.n.01'), Synset('eye_opener.n.02'), Synset('peripeteia.n.01'), Synset('shock.n.06'), Synset('stunner.n.02'), Synset('conversion.n.01'), Synset('degeneration.n.03'), Synset('improvement.n.01'), Synset('population_shift.n.01'), Synset('pyrolysis.n.01'), Synset('sea_change.n.01'), Synset('strengthening.n.01'), Synset('sublimation.n.01'), Synset('tin_pest.n.01'), Synset('weakening.n.01'), Synset('ground_swell.n.01'), Synset('leap.n.02'), Synset('allomerism.n.01'), Synset('business_cycle.n.01'), Synset('daily_variation.n.01'), Synset('deviation.n.01'), Synset('diurnal_variation.n.01'), Synset('substitution.n.01'), Synset('tide.n.02'), ...]\"], [1, \"Synset('datum.n.01')\", \"[Synset('datum.n.01')]\", \"[]\", \"[]\", \"[Synset('information.n.02')]\", \"[Synset('information.n.02'), Synset('cognition.n.01')]\", \"[Synset('information.n.02'), Synset('cognition.n.01'), Synset('psychological_feature.n.01')]\", \"[Synset('reading.n.03'), Synset('statistic.n.01')]\", \"[Synset('reading.n.03'), Synset('statistic.n.01'), Synset('clock_time.n.01'), Synset('miles_per_hour.n.02'), Synset('average.n.01'), Synset('demographic.n.01'), Synset('deviation.n.02'), Synset('moment.n.06'), Synset('nonparametric_statistic.n.01'), Synset('parametric_statistic.n.01'), Synset('time_series.n.01'), Synset('vital_statistics.n.01')]\", \"[Synset('reading.n.03'), Synset('statistic.n.01'), Synset('clock_time.n.01'), Synset('miles_per_hour.n.02'), Synset('average.n.01'), Synset('demographic.n.01'), Synset('deviation.n.02'), Synset('moment.n.06'), Synset('nonparametric_statistic.n.01'), Synset('parametric_statistic.n.01'), Synset('time_series.n.01'), Synset('vital_statistics.n.01'), Synset('hour.n.02'), Synset('prime_time.n.01'), Synset('spacecraft_clock_time.n.01'), Synset('age_norm.n.01'), Synset('mean.n.01'), Synset('median.n.01'), Synset('mode.n.06'), Synset('mean_deviation.n.01'), Synset('outlier.n.02'), Synset('second_moment.n.01'), Synset('variance.n.03'), Synset('kendall_test.n.01'), Synset('phi_coefficient.n.01'), Synset('rank-order_correlation_coefficient.n.01'), Synset('correlation_coefficient.n.01'), Synset('regression_coefficient.n.01')]\"], [2, \"Synset('car.n.01')\", \"[Synset('car.n.01'), Synset('car.n.02'), Synset('car.n.03'), Synset('car.n.04'), Synset('cable_car.n.01')]\", \"[Synset('accelerator.n.01'), Synset('air_bag.n.01'), Synset('auto_accessory.n.01'), Synset('automobile_engine.n.01'), Synset('automobile_horn.n.01'), Synset('buffer.n.06'), Synset('bumper.n.02'), Synset('car_door.n.01'), Synset('car_mirror.n.01'), Synset('car_seat.n.01'), Synset('car_window.n.01'), Synset('fender.n.01'), Synset('first_gear.n.01'), Synset('floorboard.n.02'), Synset('gasoline_engine.n.01'), Synset('glove_compartment.n.01'), Synset('grille.n.02'), Synset('high_gear.n.01'), Synset('hood.n.09'), Synset('luggage_compartment.n.01'), Synset('rear_window.n.01'), Synset('reverse.n.02'), Synset('roof.n.02'), Synset('running_board.n.01'), Synset('stabilizer_bar.n.01'), Synset('sunroof.n.01'), Synset('tail_fin.n.02'), Synset('third_gear.n.01'), Synset('window.n.02'), Synset('exhaust.n.02'), Synset('horn_button.n.01'), Synset('bumper_guard.n.01'), Synset('armrest.n.01'), Synset('doorlock.n.01'), Synset('hinge.n.01'), Synset('back.n.08'), Synset('headrest.n.01'), Synset('seat_belt.n.01'), Synset('inlet_manifold.n.01'), Synset('hood_ornament.n.01'), Synset('exhaust_manifold.n.01'), Synset('exhaust_pipe.n.01'), Synset('exhaust_valve.n.01'), Synset('silencer.n.02'), Synset('tailpipe.n.01'), Synset('pintle.n.01')]\", \"[]\", \"[Synset('motor_vehicle.n.01')]\", \"[Synset('motor_vehicle.n.01'), Synset('self-propelled_vehicle.n.01')]\", \"[Synset('motor_vehicle.n.01'), Synset('self-propelled_vehicle.n.01'), Synset('wheeled_vehicle.n.01')]\", \"[Synset('ambulance.n.01'), Synset('beach_wagon.n.01'), Synset('bus.n.04'), Synset('cab.n.03'), Synset('compact.n.03'), Synset('convertible.n.01'), Synset('coupe.n.01'), Synset('cruiser.n.01'), Synset('electric.n.01'), Synset('gas_guzzler.n.01'), Synset('hardtop.n.01'), Synset('hatchback.n.01'), Synset('horseless_carriage.n.01'), Synset('hot_rod.n.01'), Synset('jeep.n.01'), Synset('limousine.n.01'), Synset('loaner.n.02'), Synset('minicar.n.01'), Synset('minivan.n.01'), Synset('model_t.n.01'), Synset('pace_car.n.01'), Synset('racer.n.02'), Synset('roadster.n.01'), Synset('sedan.n.01'), Synset('sport_utility.n.01'), Synset('sports_car.n.01'), Synset('stanley_steamer.n.01'), Synset('stock_car.n.01'), Synset('subcompact.n.01'), Synset('touring_car.n.01'), Synset('used-car.n.01')]\", \"[Synset('ambulance.n.01'), Synset('beach_wagon.n.01'), Synset('bus.n.04'), Synset('cab.n.03'), Synset('compact.n.03'), Synset('convertible.n.01'), Synset('coupe.n.01'), Synset('cruiser.n.01'), Synset('electric.n.01'), Synset('gas_guzzler.n.01'), Synset('hardtop.n.01'), Synset('hatchback.n.01'), Synset('horseless_carriage.n.01'), Synset('hot_rod.n.01'), Synset('jeep.n.01'), Synset('limousine.n.01'), Synset('loaner.n.02'), Synset('minicar.n.01'), Synset('minivan.n.01'), Synset('model_t.n.01'), Synset('pace_car.n.01'), Synset('racer.n.02'), Synset('roadster.n.01'), Synset('sedan.n.01'), Synset('sport_utility.n.01'), Synset('sports_car.n.01'), Synset('stanley_steamer.n.01'), Synset('stock_car.n.01'), Synset('subcompact.n.01'), Synset('touring_car.n.01'), Synset('used-car.n.01'), Synset('funny_wagon.n.01'), Synset('shooting_brake.n.01'), Synset('gypsy_cab.n.01'), Synset('minicab.n.01'), Synset('panda_car.n.01'), Synset('berlin.n.03'), Synset('minicab.n.01'), Synset('finisher.n.05'), Synset('stock_car.n.02'), Synset('brougham.n.02')]\", \"[Synset('ambulance.n.01'), Synset('beach_wagon.n.01'), Synset('bus.n.04'), Synset('cab.n.03'), Synset('compact.n.03'), Synset('convertible.n.01'), Synset('coupe.n.01'), Synset('cruiser.n.01'), Synset('electric.n.01'), Synset('gas_guzzler.n.01'), Synset('hardtop.n.01'), Synset('hatchback.n.01'), Synset('horseless_carriage.n.01'), Synset('hot_rod.n.01'), Synset('jeep.n.01'), Synset('limousine.n.01'), Synset('loaner.n.02'), Synset('minicar.n.01'), Synset('minivan.n.01'), Synset('model_t.n.01'), Synset('pace_car.n.01'), Synset('racer.n.02'), Synset('roadster.n.01'), Synset('sedan.n.01'), Synset('sport_utility.n.01'), Synset('sports_car.n.01'), Synset('stanley_steamer.n.01'), Synset('stock_car.n.01'), Synset('subcompact.n.01'), Synset('touring_car.n.01'), Synset('used-car.n.01'), Synset('funny_wagon.n.01'), Synset('shooting_brake.n.01'), Synset('gypsy_cab.n.01'), Synset('minicab.n.01'), Synset('panda_car.n.01'), Synset('berlin.n.03'), Synset('minicab.n.01'), Synset('finisher.n.05'), Synset('stock_car.n.02'), Synset('brougham.n.02')]\"], [3, \"Synset('component.n.01')\", \"[Synset('component.n.01'), Synset('part.n.01'), Synset('component.n.03')]\", \"[]\", \"[]\", \"[Synset('part.n.09')]\", \"[Synset('part.n.09'), Synset('concept.n.01')]\", \"[Synset('part.n.09'), Synset('concept.n.01'), Synset('idea.n.01')]\", \"[Synset('be-all_and_end-all.n.01'), Synset('plot_element.n.01'), Synset('point.n.01')]\", \"[Synset('be-all_and_end-all.n.01'), Synset('plot_element.n.01'), Synset('point.n.01'), Synset('mcguffin.n.01'), Synset('attractor.n.02'), Synset('intercept.n.01'), Synset('intersection.n.01')]\", \"[Synset('be-all_and_end-all.n.01'), Synset('plot_element.n.01'), Synset('point.n.01'), Synset('mcguffin.n.01'), Synset('attractor.n.02'), Synset('intercept.n.01'), Synset('intersection.n.01'), Synset('strange_attractor.n.01'), Synset('metacenter.n.01'), Synset('vertex.n.01')]\"], [4, \"Synset('configuration.n.01')\", \"[Synset('configuration.n.01'), Synset('shape.n.01')]\", \"[]\", \"[]\", \"[Synset('design.n.02')]\", \"[Synset('design.n.02'), Synset('arrangement.n.03')]\", \"[Synset('design.n.02'), Synset('arrangement.n.03'), Synset('structure.n.03')]\", \"[Synset('redundancy.n.03'), Synset('topology.n.04'), Synset('unitization.n.01')]\", \"[Synset('redundancy.n.03'), Synset('topology.n.04'), Synset('unitization.n.01'), Synset('bus_topology.n.01'), Synset('logical_topology.n.01'), Synset('loop_topology.n.01'), Synset('mesh_topology.n.01'), Synset('physical_topology.n.01'), Synset('star_topology.n.01')]\", \"[Synset('redundancy.n.03'), Synset('topology.n.04'), Synset('unitization.n.01'), Synset('bus_topology.n.01'), Synset('logical_topology.n.01'), Synset('loop_topology.n.01'), Synset('mesh_topology.n.01'), Synset('physical_topology.n.01'), Synset('star_topology.n.01')]\"], [0, \"Synset('way.n.05')\", \"[Synset('way.n.05'), Synset('path.n.02'), Synset('path.n.03'), Synset('path.n.04')]\", \"[]\", \"[]\", \"[Synset('course.n.04')]\", \"[Synset('course.n.04'), Synset('action.n.01')]\", \"[Synset('course.n.04'), Synset('action.n.01'), Synset('act.n.02')]\", \"[Synset('ambages.n.01'), Synset('primrose_path.n.01'), Synset('straight_and_narrow.n.01'), Synset('sunnah.n.01'), Synset('warpath.n.02')]\", \"[Synset('ambages.n.01'), Synset('primrose_path.n.01'), Synset('straight_and_narrow.n.01'), Synset('sunnah.n.01'), Synset('warpath.n.02')]\", \"[Synset('ambages.n.01'), Synset('primrose_path.n.01'), Synset('straight_and_narrow.n.01'), Synset('sunnah.n.01'), Synset('warpath.n.02')]\"], [1, \"Synset('datum.n.01')\", \"[Synset('datum.n.01')]\", \"[]\", \"[]\", \"[Synset('information.n.02')]\", \"[Synset('information.n.02'), Synset('cognition.n.01')]\", \"[Synset('information.n.02'), Synset('cognition.n.01'), Synset('psychological_feature.n.01')]\", \"[Synset('reading.n.03'), Synset('statistic.n.01')]\", \"[Synset('reading.n.03'), Synset('statistic.n.01'), Synset('clock_time.n.01'), Synset('miles_per_hour.n.02'), Synset('average.n.01'), Synset('demographic.n.01'), Synset('deviation.n.02'), Synset('moment.n.06'), Synset('nonparametric_statistic.n.01'), Synset('parametric_statistic.n.01'), Synset('time_series.n.01'), Synset('vital_statistics.n.01')]\", \"[Synset('reading.n.03'), Synset('statistic.n.01'), Synset('clock_time.n.01'), Synset('miles_per_hour.n.02'), Synset('average.n.01'), Synset('demographic.n.01'), Synset('deviation.n.02'), Synset('moment.n.06'), Synset('nonparametric_statistic.n.01'), Synset('parametric_statistic.n.01'), Synset('time_series.n.01'), Synset('vital_statistics.n.01'), Synset('hour.n.02'), Synset('prime_time.n.01'), Synset('spacecraft_clock_time.n.01'), Synset('age_norm.n.01'), Synset('mean.n.01'), Synset('median.n.01'), Synset('mode.n.06'), Synset('mean_deviation.n.01'), Synset('outlier.n.02'), Synset('second_moment.n.01'), Synset('variance.n.03'), Synset('kendall_test.n.01'), Synset('phi_coefficient.n.01'), Synset('rank-order_correlation_coefficient.n.01'), Synset('correlation_coefficient.n.01'), Synset('regression_coefficient.n.01')]\"], [2, \"Synset('vehicle.n.01')\", \"[Synset('vehicle.n.01'), Synset('vehicle.n.02'), Synset('vehicle.n.03'), Synset('fomite.n.01')]\", \"[Synset('splashboard.n.02')]\", \"[]\", \"[Synset('conveyance.n.03')]\", \"[Synset('conveyance.n.03'), Synset('instrumentality.n.03')]\", \"[Synset('conveyance.n.03'), Synset('instrumentality.n.03'), Synset('artifact.n.01')]\", \"[Synset('bumper_car.n.01'), Synset('craft.n.02'), Synset('military_vehicle.n.01'), Synset('rocket.n.01'), Synset('skibob.n.01'), Synset('sled.n.01'), Synset('steamroller.n.02'), Synset('wheeled_vehicle.n.01')]\", \"[Synset('bumper_car.n.01'), Synset('craft.n.02'), Synset('military_vehicle.n.01'), Synset('rocket.n.01'), Synset('skibob.n.01'), Synset('sled.n.01'), Synset('steamroller.n.02'), Synset('wheeled_vehicle.n.01'), Synset('aircraft.n.01'), Synset('hovercraft.n.01'), Synset('landing_craft.n.01'), Synset('spacecraft.n.01'), Synset('vessel.n.02'), Synset('caisson.n.02'), Synset('half_track.n.01'), Synset('humvee.n.01'), Synset('personnel_carrier.n.01'), Synset('picket.n.04'), Synset('reconnaissance_vehicle.n.01'), Synset('tank.n.01'), Synset('technical.n.01'), Synset('troop_carrier.n.01'), Synset('warplane.n.01'), Synset('warship.n.01'), Synset('weapons_carrier.n.01'), Synset('missile.n.01'), Synset('multistage_rocket.n.01'), Synset('test_rocket.n.01'), Synset('bobsled.n.01'), Synset('bobsled.n.02'), Synset('dogsled.n.01'), Synset('luge.n.01'), Synset('pung.n.01'), Synset('toboggan.n.01'), Synset('baby_buggy.n.01'), Synset('bicycle.n.01'), Synset('boneshaker.n.01'), Synset('car.n.02'), Synset('handcart.n.01'), Synset('horse-drawn_vehicle.n.01'), Synset('motor_scooter.n.01'), Synset('rolling_stock.n.01'), Synset('scooter.n.02'), Synset('self-propelled_vehicle.n.01'), Synset('skateboard.n.01'), Synset('trailer.n.04'), Synset('tricycle.n.01'), Synset('unicycle.n.01'), Synset('wagon.n.01'), Synset('wagon.n.04'), Synset('welcome_wagon.n.01')]\", \"[Synset('bumper_car.n.01'), Synset('craft.n.02'), Synset('military_vehicle.n.01'), Synset('rocket.n.01'), Synset('skibob.n.01'), Synset('sled.n.01'), Synset('steamroller.n.02'), Synset('wheeled_vehicle.n.01'), Synset('aircraft.n.01'), Synset('hovercraft.n.01'), Synset('landing_craft.n.01'), Synset('spacecraft.n.01'), Synset('vessel.n.02'), Synset('caisson.n.02'), Synset('half_track.n.01'), Synset('humvee.n.01'), Synset('personnel_carrier.n.01'), Synset('picket.n.04'), Synset('reconnaissance_vehicle.n.01'), Synset('tank.n.01'), Synset('technical.n.01'), Synset('troop_carrier.n.01'), Synset('warplane.n.01'), Synset('warship.n.01'), Synset('weapons_carrier.n.01'), Synset('missile.n.01'), Synset('multistage_rocket.n.01'), Synset('test_rocket.n.01'), Synset('bobsled.n.01'), Synset('bobsled.n.02'), Synset('dogsled.n.01'), Synset('luge.n.01'), Synset('pung.n.01'), Synset('toboggan.n.01'), Synset('baby_buggy.n.01'), Synset('bicycle.n.01'), Synset('boneshaker.n.01'), Synset('car.n.02'), Synset('handcart.n.01'), Synset('horse-drawn_vehicle.n.01'), Synset('motor_scooter.n.01'), Synset('rolling_stock.n.01'), Synset('scooter.n.02'), Synset('self-propelled_vehicle.n.01'), Synset('skateboard.n.01'), Synset('trailer.n.04'), Synset('tricycle.n.01'), Synset('unicycle.n.01'), Synset('wagon.n.01'), Synset('wagon.n.04'), Synset('welcome_wagon.n.01'), Synset('bogy.n.01'), Synset('cruise_missile.n.01'), Synset('heavier-than-air_craft.n.01'), Synset('lighter-than-air_craft.n.01'), Synset('stealth_aircraft.n.01'), Synset('lander.n.02'), Synset('lunar_excursion_module.n.01'), Synset('space_capsule.n.01'), Synset('space_shuttle.n.01'), Synset('starship.n.01'), Synset('bareboat.n.01'), Synset('boat.n.01'), Synset('fishing_boat.n.01'), Synset('galley.n.01'), Synset('galley.n.02'), Synset('iceboat.n.02'), Synset('patrol_boat.n.01'), Synset('sailing_vessel.n.01'), Synset('ship.n.01'), Synset('shrimper.n.01'), Synset('weather_ship.n.01'), Synset('yacht.n.01'), Synset('picket_boat.n.01'), Synset('picket_ship.n.01'), Synset('panzer.n.01'), Synset('troopship.n.01'), Synset('bomber.n.01'), Synset('fighter.n.02'), Synset('reconnaissance_plane.n.01'), Synset('aircraft_carrier.n.01'), Synset('battleship.n.01'), Synset('capital_ship.n.01'), Synset('corvette.n.01'), Synset('cruiser.n.02'), Synset('destroyer.n.01'), Synset('destroyer_escort.n.01'), Synset('frigate.n.01'), Synset('frigate.n.02'), Synset('guard_ship.n.01'), Synset('ironclad.n.01'), Synset('man-of-war.n.01'), Synset('privateer.n.02'), Synset('sloop_of_war.n.01'), Synset('submersible.n.02'), Synset('surface_ship.n.01'), Synset('three-decker.n.03'), Synset('torpedo_boat.n.01'), Synset('air-to-air_missile.n.01'), Synset('air-to-ground_missile.n.01'), ...]\"]];\n",
       "        // Display the table\n",
       "        $(document).ready(function () {\n",
       "            window.dataTablePromise.then(() => {\n",
       "                // Define the dt_args\n",
       "                let dt_args = {\"order\": [], \"dom\": \"t\"};\n",
       "                dt_args[\"data\"] = data;\n",
       "\n",
       "                \n",
       "                $('#4425e04c-b9b3-4665-97a0-f9b2615d377d').DataTable(dt_args);\n",
       "            });\n",
       "        })\n",
       "    }\n",
       "</script>\n",
       "</div>\n"
      ],
      "text/plain": [
       "                           term   \n",
       "0         Synset('change.n.01')  \\\n",
       "1          Synset('datum.n.01')   \n",
       "2            Synset('car.n.01')   \n",
       "3      Synset('component.n.01')   \n",
       "4  Synset('configuration.n.01')   \n",
       "0            Synset('way.n.05')   \n",
       "1          Synset('datum.n.01')   \n",
       "2        Synset('vehicle.n.01')   \n",
       "\n",
       "                                            synonyms   \n",
       "0  [Synset('change.n.01'), Synset('change.n.02'),...  \\\n",
       "1                             [Synset('datum.n.01')]   \n",
       "2  [Synset('car.n.01'), Synset('car.n.02'), Synse...   \n",
       "3  [Synset('component.n.01'), Synset('part.n.01')...   \n",
       "4  [Synset('configuration.n.01'), Synset('shape.n...   \n",
       "0  [Synset('way.n.05'), Synset('path.n.02'), Syns...   \n",
       "1                             [Synset('datum.n.01')]   \n",
       "2  [Synset('vehicle.n.01'), Synset('vehicle.n.02'...   \n",
       "\n",
       "                                            meronyms holonyms   \n",
       "0                                                 []       []  \\\n",
       "1                                                 []       []   \n",
       "2  [Synset('accelerator.n.01'), Synset('air_bag.n...       []   \n",
       "3                                                 []       []   \n",
       "4                                                 []       []   \n",
       "0                                                 []       []   \n",
       "1                                                 []       []   \n",
       "2                       [Synset('splashboard.n.02')]       []   \n",
       "\n",
       "                   hypernyms [L1]   \n",
       "0      [Synset('happening.n.01')]  \\\n",
       "1    [Synset('information.n.02')]   \n",
       "2  [Synset('motor_vehicle.n.01')]   \n",
       "3           [Synset('part.n.09')]   \n",
       "4         [Synset('design.n.02')]   \n",
       "0         [Synset('course.n.04')]   \n",
       "1    [Synset('information.n.02')]   \n",
       "2     [Synset('conveyance.n.03')]   \n",
       "\n",
       "                                      hypernyms [L2]   \n",
       "0   [Synset('happening.n.01'), Synset('event.n.01')]  \\\n",
       "1  [Synset('information.n.02'), Synset('cognition...   \n",
       "2  [Synset('motor_vehicle.n.01'), Synset('self-pr...   \n",
       "3      [Synset('part.n.09'), Synset('concept.n.01')]   \n",
       "4  [Synset('design.n.02'), Synset('arrangement.n....   \n",
       "0     [Synset('course.n.04'), Synset('action.n.01')]   \n",
       "1  [Synset('information.n.02'), Synset('cognition...   \n",
       "2  [Synset('conveyance.n.03'), Synset('instrument...   \n",
       "\n",
       "                                      hypernyms [L3]   \n",
       "0  [Synset('happening.n.01'), Synset('event.n.01'...  \\\n",
       "1  [Synset('information.n.02'), Synset('cognition...   \n",
       "2  [Synset('motor_vehicle.n.01'), Synset('self-pr...   \n",
       "3  [Synset('part.n.09'), Synset('concept.n.01'), ...   \n",
       "4  [Synset('design.n.02'), Synset('arrangement.n....   \n",
       "0  [Synset('course.n.04'), Synset('action.n.01'),...   \n",
       "1  [Synset('information.n.02'), Synset('cognition...   \n",
       "2  [Synset('conveyance.n.03'), Synset('instrument...   \n",
       "\n",
       "                                       hyponyms [L1]   \n",
       "0  [Synset('acceleration.n.01'), Synset('avulsion...  \\\n",
       "1  [Synset('reading.n.03'), Synset('statistic.n.0...   \n",
       "2  [Synset('ambulance.n.01'), Synset('beach_wagon...   \n",
       "3  [Synset('be-all_and_end-all.n.01'), Synset('pl...   \n",
       "4  [Synset('redundancy.n.03'), Synset('topology.n...   \n",
       "0  [Synset('ambages.n.01'), Synset('primrose_path...   \n",
       "1  [Synset('reading.n.03'), Synset('statistic.n.0...   \n",
       "2  [Synset('bumper_car.n.01'), Synset('craft.n.02...   \n",
       "\n",
       "                                       hyponyms [L2]   \n",
       "0  [Synset('acceleration.n.01'), Synset('avulsion...  \\\n",
       "1  [Synset('reading.n.03'), Synset('statistic.n.0...   \n",
       "2  [Synset('ambulance.n.01'), Synset('beach_wagon...   \n",
       "3  [Synset('be-all_and_end-all.n.01'), Synset('pl...   \n",
       "4  [Synset('redundancy.n.03'), Synset('topology.n...   \n",
       "0  [Synset('ambages.n.01'), Synset('primrose_path...   \n",
       "1  [Synset('reading.n.03'), Synset('statistic.n.0...   \n",
       "2  [Synset('bumper_car.n.01'), Synset('craft.n.02...   \n",
       "\n",
       "                                       hyponyms [L3]  \n",
       "0  [Synset('acceleration.n.01'), Synset('avulsion...  \n",
       "1  [Synset('reading.n.03'), Synset('statistic.n.0...  \n",
       "2  [Synset('ambulance.n.01'), Synset('beach_wagon...  \n",
       "3  [Synset('be-all_and_end-all.n.01'), Synset('pl...  \n",
       "4  [Synset('redundancy.n.03'), Synset('topology.n...  \n",
       "0  [Synset('ambages.n.01'), Synset('primrose_path...  \n",
       "1  [Synset('reading.n.03'), Synset('statistic.n.0...  \n",
       "2  [Synset('bumper_car.n.01'), Synset('craft.n.02...  "
      ]
     },
     "execution_count": 10,
     "metadata": {},
     "output_type": "execute_result"
    }
   ],
   "source": [
    "import pandas\n",
    "\n",
    "synset_dict1 = synset_relations(embraceable_candidates.iloc[embraceable_candidates.index==index_to_embrace]['sentence1'].values[0])\n",
    "synset_dict2 = synset_relations(embraceable_candidates.iloc[embraceable_candidates.index==index_to_embrace]['sentence2'].values[0])\n",
    "\n",
    "focus_df = pandas.concat([pandas.DataFrame.from_dict(synset_dict1['terms']), pandas.DataFrame.from_dict(synset_dict2['terms'])])\n",
    "focus_df"
   ]
  }
 ],
 "metadata": {
  "kernelspec": {
   "display_name": "venv",
   "language": "python",
   "name": "python3"
  },
  "language_info": {
   "codemirror_mode": {
    "name": "ipython",
    "version": 3
   },
   "file_extension": ".py",
   "mimetype": "text/x-python",
   "name": "python",
   "nbconvert_exporter": "python",
   "pygments_lexer": "ipython3",
   "version": "3.10.6"
  },
  "orig_nbformat": 4
 },
 "nbformat": 4,
 "nbformat_minor": 2
}
