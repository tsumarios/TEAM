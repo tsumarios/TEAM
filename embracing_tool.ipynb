{
 "cells": [
  {
   "cell_type": "code",
   "execution_count": null,
   "metadata": {},
   "outputs": [],
   "source": [
    "from embracing import step1, step2, step3, synset_relations\n",
    "from ipywidgets import widgets\n",
    "from itables import init_notebook_mode\n",
    "\n",
    "\n",
    "init_notebook_mode(all_interactive=True)"
   ]
  },
  {
   "cell_type": "code",
   "execution_count": 3,
   "metadata": {},
   "outputs": [
    {
     "name": "stdout",
     "output_type": "stream",
     "text": [
      "Similarity score range is between 0.01 and 0.82\n"
     ]
    }
   ],
   "source": [
    "threat_list_path = \"./data/preliminary_threats.csv\"#input(\"Please specify the path to your threat list (csv)\")\n",
    "\n",
    "min_score, max_score = 0.01, 0.82#step1(threat_list_path)\n",
    "print(f\"Similarity score range is between {min_score} and {max_score}\")"
   ]
  },
  {
   "cell_type": "markdown",
   "metadata": {},
   "source": [
    "Please set your desirable semantic similarity score threshold to further investigate."
   ]
  },
  {
   "cell_type": "code",
   "execution_count": 4,
   "metadata": {},
   "outputs": [
    {
     "data": {
      "application/vnd.jupyter.widget-view+json": {
       "model_id": "4bfc03812d404276956598f218b995be",
       "version_major": 2,
       "version_minor": 0
      },
      "text/plain": [
       "FloatSlider(value=0.01, description='score:', max=0.82, min=0.01, step=0.01)"
      ]
     },
     "execution_count": 4,
     "metadata": {},
     "output_type": "execute_result"
    }
   ],
   "source": [
    "ss_threshold = widgets.FloatSlider(\n",
    "    min=min_score, max=max_score, step=0.01,\n",
    "    description='score:',\n",
    "    readout_format='.2f',\n",
    ")\n",
    "ss_threshold"
   ]
  },
  {
   "cell_type": "code",
   "execution_count": 31,
   "metadata": {},
   "outputs": [
    {
     "name": "stdout",
     "output_type": "stream",
     "text": [
      "The list of embraceable candidates above the threshold 0.4 contains 519 pairs.\n"
     ]
    },
    {
     "data": {
      "text/html": [
       "<style>.itables table td {\n",
       "    text-overflow: ellipsis;\n",
       "    overflow: hidden;\n",
       "}\n",
       "\n",
       ".itables table th {\n",
       "    text-overflow: ellipsis;\n",
       "    overflow: hidden;\n",
       "}\n",
       "\n",
       ".itables thead input {\n",
       "    width: 100%;\n",
       "    padding: 3px;\n",
       "    box-sizing: border-box;\n",
       "}\n",
       "\n",
       ".itables tfoot input {\n",
       "    width: 100%;\n",
       "    padding: 3px;\n",
       "    box-sizing: border-box;\n",
       "}\n",
       "</style>\n",
       "<div class=\"itables\">\n",
       "<table id=\"6de3bb60-c015-42f0-ba56-b50f0e189e9a\" class=\"display nowrap\"style=\"table-layout:auto;width:auto;margin:auto;caption-side:bottom\"><thead>\n",
       "    <tr style=\"text-align: right;\">\n",
       "      <th></th>\n",
       "      <th>sentence1</th>\n",
       "      <th>sentence2</th>\n",
       "      <th>score</th>\n",
       "    </tr>\n",
       "  </thead><tbody><tr><td>Loading... (need <a href=https://mwouts.github.io/itables/troubleshooting.html>help</a>?)</td></tr></tbody></table>\n",
       "<script>\n",
       "    // We use a namespace per table (= the next curly bracket)\n",
       "    // to avoid conflicts between the various tables' data & dt_args\n",
       "    {\n",
       "        // Define the table data\n",
       "        const data = [[17, \"Denial of Service\", \"Failure or Disruption of service\", 0.426178], [78, \"Denial of Service\", \"Non-transparent Policies, Agreements, Terms and Conditions\", 0.40999], [82, \"Denial of Service\", \"Inability of users to access and modify data\", 0.439241], [90, \"Denial of Service\", \"Collection without Consent\", 0.416402], [94, \"Malware\", \"Manipulation of hardware and software\", 0.517936], [96, \"Malware\", \"Threats targeting autonomous sensors\", 0.432267], [99, \"Malware\", \"Vandalism\", 0.465214], [128, \"Malware\", \"An adversary can execute arbitrary code on the telematics unit (TCU) and take control of the device.\", 0.407195], [130, \"Malware\", \"Spying, SMS Interception & Modification, User Tracking.\", 0.402586], [134, \"Malware\", \"Attacker operates phisically on the TC by tampering the device firmware.\", 0.426596], [142, \"Malware\", \"Mobile App spoofing\", 0.40084], [147, \"Malware\", \"Infotainment malware\", 0.485354], [148, \"Malware\", \"Mobile App malware\", 0.573813], [167, \"Malware\", \"Web Application Vulnerabilities\", 0.410086], [182, \"Malware\", \"Misleading Content\", 0.400269], [187, \"Manipulation of hardware and software\", \"Manipulation of information\", 0.655521], [191, \"Manipulation of hardware and software\", \"Vandalism\", 0.419678], [195, \"Manipulation of hardware and software\", \"Identity theft\", 0.429327], [198, \"Manipulation of hardware and software\", \"Theft\", 0.424649], [201, \"Manipulation of hardware and software\", \"Software vulnerabilities exploitation\", 0.589752], [203, \"Manipulation of hardware and software\", \"Communication protocol hijacking\", 0.429929], [205, \"Manipulation of hardware and software\", \"Man-in-the-middle attack / Session hijacking\", 0.433485], [208, \"Manipulation of hardware and software\", \"Using information and/or devices from an unreliable source\", 0.458075], [211, \"Manipulation of hardware and software\", \"Violation of rules and regulations/Breach of legislation/ Abuse of personal data\", 0.424287], [214, \"Manipulation of hardware and software\", \"Attacker injects CAN messages/codes via any ECUs connected to the bus.\", 0.505254], [216, \"Manipulation of hardware and software\", \"Attacker remotely accesses via telematics systems (TCU).\", 0.498256], [217, \"Manipulation of hardware and software\", \"An adversary can capture, analyze, and replaye the messages.\", 0.408236], [219, \"Manipulation of hardware and software\", \"An adversarv can crack a weak password.\", 0.48262], [220, \"Manipulation of hardware and software\", \"An adversary can execute arbitrary code on the telematics unit (TCU) and take control of the device.\", 0.581725], [221, \"Manipulation of hardware and software\", \"The SS7 vulnerabilities can be exploited to compromise SMS system to intercept text user messages.\", 0.406026], [222, \"Manipulation of hardware and software\", \"Spying, SMS Interception & Modification, User Tracking.\", 0.408568], [224, \"Manipulation of hardware and software\", \"Attacker can moditv the hardware ov changina or disabling ohvsica sensors. memories and features.\", 0.615692], [225, \"Manipulation of hardware and software\", \"An attacker changes circuits of a device to extractsensitive data, such as cryptographic keys.\", 0.501898], [226, \"Manipulation of hardware and software\", \"Attacker operates phisically on the TC by tampering the device firmware.\", 0.566555], [227, \"Manipulation of hardware and software\", \"An attacker could perform remote control by installing remotely his own sottware on the device.\", 0.59445], [228, \"Manipulation of hardware and software\", \"Reprogramming the USB/CD device's firmware to execute malicious actions.\", 0.501722], [229, \"Manipulation of hardware and software\", \"An adversary can exploit the vulnerabilities o USB svstems on-board venice.\", 0.576254], [233, \"Manipulation of hardware and software\", \"An adversary relates pseudonymous positions to specific vehicles.\", 0.437665], [234, \"Manipulation of hardware and software\", \"Mobile App spoofing\", 0.429208], [239, \"Manipulation of hardware and software\", \"Infotainment malware\", 0.505783], [240, \"Manipulation of hardware and software\", \"Mobile App malware\", 0.465896], [243, \"Manipulation of hardware and software\", \"CAN frame tampering\", 0.43935], [244, \"Manipulation of hardware and software\", \"V2X data tampering\", 0.490817], [253, \"Manipulation of hardware and software\", \"Smart key jamming\", 0.412502], [258, \"Manipulation of hardware and software\", \"Insider Threat\", 0.483855], [260, \"Manipulation of hardware and software\", \"Operator-sided Data Leakage\", 0.46498], [282, \"Manipulation of information\", \"Vandalism\", 0.504217], [286, \"Manipulation of information\", \"Identity theft\", 0.501779], [287, \"Manipulation of information\", \"Abuse of authorizations\", 0.427498], [288, \"Manipulation of information\", \"Sabotage\", 0.401936], [289, \"Manipulation of information\", \"Theft\", 0.573706], [292, \"Manipulation of information\", \"Software vulnerabilities exploitation\", 0.447322], [294, \"Manipulation of information\", \"Communication protocol hijacking\", 0.539513], [298, \"Manipulation of information\", \"Information leakage\", 0.535394], [299, \"Manipulation of information\", \"Using information and/or devices from an unreliable source\", 0.514242], [302, \"Manipulation of information\", \"Violation of rules and regulations/Breach of legislation/ Abuse of personal data\", 0.512026], [308, \"Manipulation of information\", \"An adversary can capture, analyze, and replaye the messages.\", 0.42746], [312, \"Manipulation of information\", \"The SS7 vulnerabilities can be exploited to compromise SMS system to intercept text user messages.\", 0.419513], [313, \"Manipulation of information\", \"Spying, SMS Interception & Modification, User Tracking.\", 0.419674], [316, \"Manipulation of information\", \"An attacker changes circuits of a device to extractsensitive data, such as cryptographic keys.\", 0.526691], [317, \"Manipulation of information\", \"Attacker operates phisically on the TC by tampering the device firmware.\", 0.488728], [318, \"Manipulation of information\", \"An attacker could perform remote control by installing remotely his own sottware on the device.\", 0.421916], [325, \"Manipulation of information\", \"Mobile App spoofing\", 0.575661], [328, \"Manipulation of information\", \"GPS spoofing\", 0.418429], [331, \"Manipulation of information\", \"Mobile App malware\", 0.493634], [334, \"Manipulation of information\", \"CAN frame tampering\", 0.506798], [335, \"Manipulation of information\", \"V2X data tampering\", 0.484197], [351, \"Manipulation of information\", \"Operator-sided Data Leakage\", 0.510464], [365, \"Manipulation of information\", \"Misleading Content\", 0.623631], [370, \"Threats targeting autonomous sensors\", \"Threats against AI and ML\", 0.402467], [389, \"Threats targeting autonomous sensors\", \"Using information and/or devices from an unreliable source\", 0.440281], [396, \"Threats targeting autonomous sensors\", \"Attacker modifies the path of the sensitive data circulating in the vehicle.\", 0.419351], [397, \"Threats targeting autonomous sensors\", \"Attacker remotely accesses via telematics systems (TCU).\", 0.524917], [401, \"Threats targeting autonomous sensors\", \"An adversary can execute arbitrary code on the telematics unit (TCU) and take control of the device.\", 0.473745], [405, \"Threats targeting autonomous sensors\", \"Attacker can moditv the hardware ov changina or disabling ohvsica sensors. memories and features.\", 0.418968], [406, \"Threats targeting autonomous sensors\", \"An attacker changes circuits of a device to extractsensitive data, such as cryptographic keys.\", 0.466574], [408, \"Threats targeting autonomous sensors\", \"An attacker could perform remote control by installing remotely his own sottware on the device.\", 0.445677], [410, \"Threats targeting autonomous sensors\", \"An adversary can exploit the vulnerabilities o USB svstems on-board venice.\", 0.437581], [411, \"Threats targeting autonomous sensors\", \"An adversary can identify or track the vehicle from the sensor.\", 0.450341], [414, \"Threats targeting autonomous sensors\", \"An adversary relates pseudonymous positions to specific vehicles.\", 0.467135], [421, \"Threats targeting autonomous sensors\", \"Mobile App malware\", 0.440892], [426, \"Threats targeting autonomous sensors\", \"CAN eavesdropping\", 0.41468], [429, \"Threats targeting autonomous sensors\", \"Insecure API endpoint\", 0.459023], [439, \"Threats targeting autonomous sensors\", \"Insider Threat\", 0.44678], [440, \"Threats targeting autonomous sensors\", \"Web Application Vulnerabilities\", 0.461006], [453, \"Threats targeting autonomous sensors\", \"Insecure Data Transfer\", 0.427868], [463, \"Threats against AI and ML\", \"OEM Targeted attacks\", 0.424736], [558, \"Failure or malfunction of a sensor/actuator\", \"Fault injection\", 0.50363], [560, \"Failure or malfunction of a sensor/actuator\", \"Failure or Disruption of service\", 0.535033], [564, \"Failure or malfunction of a sensor/actuator\", \"Unintentional change of data or car components configuration\", 0.408702], [566, \"Failure or malfunction of a sensor/actuator\", \"Using information and/or devices from an unreliable source\", 0.484102], [567, \"Failure or malfunction of a sensor/actuator\", \"Erroneous use or configuration of car components\", 0.428161], [597, \"Failure or malfunction of a sensor/actuator\", \"Infotainment malware\", 0.417031], [640, \"Vandalism\", \"Identity theft\", 0.401223], [642, \"Vandalism\", \"Sabotage\", 0.656608], [643, \"Vandalism\", \"Theft\", 0.599218], [645, \"Vandalism\", \"Fault injection\", 0.456841], [653, \"Vandalism\", \"Using information and/or devices from an unreliable source\", 0.414312], [671, \"Vandalism\", \"Attacker operates phisically on the TC by tampering the device firmware.\", 0.440027], [673, \"Vandalism\", \"Reprogramming the USB/CD device's firmware to execute malicious actions.\", 0.470936], [674, \"Vandalism\", \"An adversary can exploit the vulnerabilities o USB svstems on-board venice.\", 0.438095], [684, \"Vandalism\", \"Infotainment malware\", 0.457285], [685, \"Vandalism\", \"Mobile App malware\", 0.507922], [719, \"Vandalism\", \"Misleading Content\", 0.540239], [733, \"Network outage\", \"Failure or Disruption of service\", 0.654458], [743, \"Network outage\", \"Loss of GNSS signal\", 0.449481], [896, \"Unauthorised activities\", \"Abuse of authorizations\", 0.456284], [906, \"Unauthorised activities\", \"Unintentional change of data or car components configuration\", 0.428212], [908, \"Unauthorised activities\", \"Using information and/or devices from an unreliable source\", 0.437789], [909, \"Unauthorised activities\", \"Erroneous use or configuration of car components\", 0.446492], [911, \"Unauthorised activities\", \"Violation of rules and regulations/Breach of legislation/ Abuse of personal data\", 0.548152], [944, \"Unauthorised activities\", \"V2X data tampering\", 0.438227], [946, \"Unauthorised activities\", \"Unauthorised diagnostic access\", 0.526225], [960, \"Unauthorised activities\", \"Operator-sided Data Leakage\", 0.400621], [968, \"Unauthorised activities\", \"Collection of data not required for the user-consented purpose\", 0.487462], [979, \"Identity theft\", \"Abuse of authorizations\", 0.420309], [981, \"Identity theft\", \"Theft\", 0.622252], [984, \"Identity theft\", \"Software vulnerabilities exploitation\", 0.428428], [986, \"Identity theft\", \"Communication protocol hijacking\", 0.489299], [990, \"Identity theft\", \"Information leakage\", 0.450276], [1002, \"Identity theft\", \"An adversarv can crack a weak password.\", 0.465709], [1008, \"Identity theft\", \"An attacker changes circuits of a device to extractsensitive data, such as cryptographic keys.\", 0.47936], [1018, \"Identity theft\", \"Smart key bruteforcing\", 0.487018], [1019, \"Identity theft\", \"Smart key cloning\", 0.44649], [1027, \"Identity theft\", \"V2X data tampering\", 0.404909], [1036, \"Identity theft\", \"Smart key jamming\", 0.458271], [1043, \"Identity theft\", \"Operator-sided Data Leakage\", 0.480912], [1055, \"Identity theft\", \"Insecure Data Transfer\", 0.436956], [1066, \"Abuse of authorizations\", \"Software vulnerabilities exploitation\", 0.489636], [1068, \"Abuse of authorizations\", \"Communication protocol hijacking\", 0.40034], [1076, \"Abuse of authorizations\", \"Violation of rules and regulations/Breach of legislation/ Abuse of personal data\", 0.523286], [1108, \"Abuse of authorizations\", \"CAN frame tampering\", 0.457133], [1111, \"Abuse of authorizations\", \"Unauthorised diagnostic access\", 0.458419], [1115, \"Abuse of authorizations\", \"Server violation\", 0.412968], [1144, \"Sabotage\", \"Theft\", 0.48638], [1174, \"Sabotage\", \"Reprogramming the USB/CD device's firmware to execute malicious actions.\", 0.413722], [1185, \"Sabotage\", \"Infotainment malware\", 0.406504], [1220, \"Sabotage\", \"Misleading Content\", 0.421457], [1229, \"Theft\", \"Communication protocol hijacking\", 0.521448], [1231, \"Theft\", \"Man-in-the-middle attack / Session hijacking\", 0.463751], [1233, \"Theft\", \"Information leakage\", 0.407372], [1261, \"Theft\", \"Smart key bruteforcing\", 0.409914], [1266, \"Theft\", \"Mobile App malware\", 0.427561], [1286, \"Theft\", \"Operator-sided Data Leakage\", 0.42631], [1300, \"Theft\", \"Misleading Content\", 0.431112], [1365, \"Side-channel attacks\", \"Operator-sided Data Leakage\", 0.407558], [1411, \"Fault injection\", \"Reprogramming the USB/CD device's firmware to execute malicious actions.\", 0.434043], [1422, \"Fault injection\", \"Infotainment malware\", 0.479751], [1425, \"Fault injection\", \"CAN frame injection\", 0.520829], [1436, \"Fault injection\", \"Smart key jamming\", 0.423363], [1471, \"Software vulnerabilities exploitation\", \"Violation of rules and regulations/Breach of legislation/ Abuse of personal data\", 0.420333], [1479, \"Software vulnerabilities exploitation\", \"An adversarv can crack a weak password.\", 0.494161], [1481, \"Software vulnerabilities exploitation\", \"The SS7 vulnerabilities can be exploited to compromise SMS system to intercept text user messages.\", 0.45705], [1484, \"Software vulnerabilities exploitation\", \"Attacker can moditv the hardware ov changina or disabling ohvsica sensors. memories and features.\", 0.428984], [1487, \"Software vulnerabilities exploitation\", \"An attacker could perform remote control by installing remotely his own sottware on the device.\", 0.430172], [1489, \"Software vulnerabilities exploitation\", \"An adversary can exploit the vulnerabilities o USB svstems on-board venice.\", 0.52374], [1500, \"Software vulnerabilities exploitation\", \"Mobile App malware\", 0.451159], [1503, \"Software vulnerabilities exploitation\", \"CAN frame tampering\", 0.408588], [1506, \"Software vulnerabilities exploitation\", \"Unauthorised diagnostic access\", 0.414041], [1519, \"Software vulnerabilities exploitation\", \"Web Application Vulnerabilities\", 0.705395], [1520, \"Software vulnerabilities exploitation\", \"Operator-sided Data Leakage\", 0.439821], [1546, \"Failure or Disruption of service\", \"Failure to meet contractual requirements\", 0.483158], [1597, \"Failure or Disruption of service\", \"Insufficient Data Breach Response\", 0.43263], [1603, \"Failure or Disruption of service\", \"Inability of users to access and modify data\", 0.464761], [1605, \"Failure or Disruption of service\", \"Insufficient Data Structure Model to handle user rights\", 0.424615], [1616, \"Communication protocol hijacking\", \"Man-in-the-middle attack / Session hijacking\", 0.54291], [1628, \"Communication protocol hijacking\", \"An adversary can capture, analyze, and replaye the messages.\", 0.43014], [1630, \"Communication protocol hijacking\", \"An adversarv can crack a weak password.\", 0.423338], [1631, \"Communication protocol hijacking\", \"An adversary can execute arbitrary code on the telematics unit (TCU) and take control of the device.\", 0.444674], [1632, \"Communication protocol hijacking\", \"The SS7 vulnerabilities can be exploited to compromise SMS system to intercept text user messages.\", 0.417599], [1633, \"Communication protocol hijacking\", \"Spying, SMS Interception & Modification, User Tracking.\", 0.425373], [1636, \"Communication protocol hijacking\", \"An attacker changes circuits of a device to extractsensitive data, such as cryptographic keys.\", 0.518544], [1637, \"Communication protocol hijacking\", \"Attacker operates phisically on the TC by tampering the device firmware.\", 0.421939], [1642, \"Communication protocol hijacking\", \"For wireless communication channel, messages can be captured, analyze, and replayed.\", 0.405063], [1645, \"Communication protocol hijacking\", \"Mobile App spoofing\", 0.451798], [1648, \"Communication protocol hijacking\", \"GPS spoofing\", 0.443994], [1654, \"Communication protocol hijacking\", \"CAN frame tampering\", 0.409634], [1664, \"Communication protocol hijacking\", \"Smart key jamming\", 0.481685], [1702, \"Data replay\", \"An adversary can capture, analyze, and replaye the messages.\", 0.522981], [1716, \"Data replay\", \"For wireless communication channel, messages can be captured, analyze, and replayed.\", 0.516789], [1722, \"Data replay\", \"GPS spoofing\", 0.452096], [1723, \"Data replay\", \"V2X Message replay\", 0.418874], [1761, \"Data replay\", \"Data Aggregation and Profiling\", 0.429926], [1772, \"Man-in-the-middle attack / Session hijacking\", \"Attacker injects CAN messages/codes via any ECUs connected to the bus.\", 0.460598], [1777, \"Man-in-the-middle attack / Session hijacking\", \"An adversarv can crack a weak password.\", 0.462962], [1783, \"Man-in-the-middle attack / Session hijacking\", \"An attacker changes circuits of a device to extractsensitive data, such as cryptographic keys.\", 0.445585], [1787, \"Man-in-the-middle attack / Session hijacking\", \"An adversary can exploit the vulnerabilities o USB svstems on-board venice.\", 0.401457], [1811, \"Man-in-the-middle attack / Session hijacking\", \"Smart key jamming\", 0.413438], [1816, \"Man-in-the-middle attack / Session hijacking\", \"Insider Threat\", 0.411734], [1838, \"Unintentional change of data or car components configuration\", \"Using information and/or devices from an unreliable source\", 0.50057], [1839, \"Unintentional change of data or car components configuration\", \"Erroneous use or configuration of car components\", 0.766479], [1845, \"Unintentional change of data or car components configuration\", \"Attacker modifies the path of the sensitive data circulating in the vehicle.\", 0.589352], [1853, \"Unintentional change of data or car components configuration\", \"Attacker can edit, add, manipuler codes and framework of the must ECUs in the vehcles.\", 0.437134], [1862, \"Unintentional change of data or car components configuration\", \"Possibility to discover and control the behaviour and profile of the driver.\", 0.467713], [1877, \"Unintentional change of data or car components configuration\", \"Infotainment reverse engineering\", 0.469313], [1886, \"Unintentional change of data or car components configuration\", \"Infotainment Alteration\", 0.568995], [1898, \"Unintentional change of data or car components configuration\", \"Collection of data not required for the user-consented purpose\", 0.425949], [1904, \"Unintentional change of data or car components configuration\", \"Misleading Content\", 0.443168], [1909, \"Information leakage\", \"Using information and/or devices from an unreliable source\", 0.501628], [1955, \"Information leakage\", \"Data loss\", 0.574238], [1961, \"Information leakage\", \"Operator-sided Data Leakage\", 0.711944], [1965, \"Information leakage\", \"Insufficient Deletion of User Data\", 0.455256], [1969, \"Information leakage\", \"Collection of data not required for the user-consented purpose\", 0.486556], [1971, \"Information leakage\", \"Sharing of Data with 3rd Party\", 0.437766], [1973, \"Information leakage\", \"Insecure Data Transfer\", 0.481943], [1975, \"Information leakage\", \"Misleading Content\", 0.439064], [1980, \"Using information and/or devices from an unreliable source\", \"Erroneous use or configuration of car components\", 0.439397], [1987, \"Using information and/or devices from an unreliable source\", \"Attacker remotely accesses via telematics systems (TCU).\", 0.413012], [1991, \"Using information and/or devices from an unreliable source\", \"An adversary can execute arbitrary code on the telematics unit (TCU) and take control of the device.\", 0.45671], [1993, \"Using information and/or devices from an unreliable source\", \"Spying, SMS Interception & Modification, User Tracking.\", 0.497815], [1995, \"Using information and/or devices from an unreliable source\", \"Attacker can moditv the hardware ov changina or disabling ohvsica sensors. memories and features.\", 0.406931], [1996, \"Using information and/or devices from an unreliable source\", \"An attacker changes circuits of a device to extractsensitive data, such as cryptographic keys.\", 0.526604], [1997, \"Using information and/or devices from an unreliable source\", \"Attacker operates phisically on the TC by tampering the device firmware.\", 0.496511], [1998, \"Using information and/or devices from an unreliable source\", \"An attacker could perform remote control by installing remotely his own sottware on the device.\", 0.408745], [2004, \"Using information and/or devices from an unreliable source\", \"An adversary relates pseudonymous positions to specific vehicles.\", 0.429805], [2005, \"Using information and/or devices from an unreliable source\", \"Mobile App spoofing\", 0.522931], [2008, \"Using information and/or devices from an unreliable source\", \"GPS spoofing\", 0.4119], [2011, \"Using information and/or devices from an unreliable source\", \"Mobile App malware\", 0.429963], [2014, \"Using information and/or devices from an unreliable source\", \"CAN frame tampering\", 0.404699], [2016, \"Using information and/or devices from an unreliable source\", \"CAN eavesdropping\", 0.446476], [2025, \"Using information and/or devices from an unreliable source\", \"Data loss\", 0.481969], [2031, \"Using information and/or devices from an unreliable source\", \"Operator-sided Data Leakage\", 0.498829], [2036, \"Using information and/or devices from an unreliable source\", \"Insufficient Data Quality\", 0.422427], [2039, \"Using information and/or devices from an unreliable source\", \"Collection of data not required for the user-consented purpose\", 0.551712], [2043, \"Using information and/or devices from an unreliable source\", \"Insecure Data Transfer\", 0.415183], [2045, \"Using information and/or devices from an unreliable source\", \"Misleading Content\", 0.623564], [2053, \"Erroneous use or configuration of car components\", \"Car depleted battery\", 0.442156], [2055, \"Erroneous use or configuration of car components\", \"Attacker modifies the path of the sensitive data circulating in the vehicle.\", 0.528298], [2060, \"Erroneous use or configuration of car components\", \"An adversary can execute arbitrary code on the telematics unit (TCU) and take control of the device.\", 0.4021], [2063, \"Erroneous use or configuration of car components\", \"Attacker can edit, add, manipuler codes and framework of the must ECUs in the vehcles.\", 0.487112], [2067, \"Erroneous use or configuration of car components\", \"An attacker could perform remote control by installing remotely his own sottware on the device.\", 0.404295], [2072, \"Erroneous use or configuration of car components\", \"Possibility to discover and control the behaviour and profile of the driver.\", 0.451336], [2079, \"Erroneous use or configuration of car components\", \"Infotainment malware\", 0.422395], [2087, \"Erroneous use or configuration of car components\", \"Infotainment reverse engineering\", 0.565082], [2096, \"Erroneous use or configuration of car components\", \"Infotainment Alteration\", 0.498957], [2097, \"Erroneous use or configuration of car components\", \"Rogue OBD-II Device\", 0.418889], [2114, \"Erroneous use or configuration of car components\", \"Misleading Content\", 0.435032], [2169, \"Failure to meet contractual requirements\", \"Insufficient Data Breach Response\", 0.400772], [2171, \"Failure to meet contractual requirements\", \"Non-transparent Policies, Agreements, Terms and Conditions\", 0.538165], [2174, \"Failure to meet contractual requirements\", \"Missing or Insufficient Session Expiration\", 0.404534], [2177, \"Failure to meet contractual requirements\", \"Insufficient Data Structure Model to handle user rights\", 0.437538], [2179, \"Failure to meet contractual requirements\", \"Inappropriate Policies, Terms and Conditions\", 0.433942], [2183, \"Failure to meet contractual requirements\", \"Collection without Consent\", 0.512146], [2196, \"Violation of rules and regulations/Breach of legislation/ Abuse of personal data\", \"The SS7 vulnerabilities can be exploited to compromise SMS system to intercept text user messages.\", 0.408809], [2200, \"Violation of rules and regulations/Breach of legislation/ Abuse of personal data\", \"An attacker changes circuits of a device to extractsensitive data, such as cryptographic keys.\", 0.401957], [2243, \"Violation of rules and regulations/Breach of legislation/ Abuse of personal data\", \"Collection of data not required for the user-consented purpose\", 0.468025], [2244, \"Violation of rules and regulations/Breach of legislation/ Abuse of personal data\", \"Insufficient Data Structure Model to handle user rights\", 0.459548], [2246, \"Violation of rules and regulations/Breach of legislation/ Abuse of personal data\", \"Inappropriate Policies, Terms and Conditions\", 0.425732], [2278, \"Loss of GNSS signal\", \"GPS spoofing\", 0.426002], [2295, \"Loss of GNSS signal\", \"Data loss\", 0.531704], [2385, \"Attacker injects CAN messages/codes via any ECUs connected to the bus.\", \"Attacker modifies the path of the sensitive data circulating in the vehicle.\", 0.426222], [2386, \"Attacker injects CAN messages/codes via any ECUs connected to the bus.\", \"Attacker remotely accesses via telematics systems (TCU).\", 0.538301], [2387, \"Attacker injects CAN messages/codes via any ECUs connected to the bus.\", \"An adversary can capture, analyze, and replaye the messages.\", 0.501775], [2388, \"Attacker injects CAN messages/codes via any ECUs connected to the bus.\", \"An adversary could link the messages to a specific vehicle.\", 0.433927], [2389, \"Attacker injects CAN messages/codes via any ECUs connected to the bus.\", \"An adversarv can crack a weak password.\", 0.525432], [2390, \"Attacker injects CAN messages/codes via any ECUs connected to the bus.\", \"An adversary can execute arbitrary code on the telematics unit (TCU) and take control of the device.\", 0.655778], [2391, \"Attacker injects CAN messages/codes via any ECUs connected to the bus.\", \"The SS7 vulnerabilities can be exploited to compromise SMS system to intercept text user messages.\", 0.465857], [2393, \"Attacker injects CAN messages/codes via any ECUs connected to the bus.\", \"Attacker can edit, add, manipuler codes and framework of the must ECUs in the vehcles.\", 0.561769], [2394, \"Attacker injects CAN messages/codes via any ECUs connected to the bus.\", \"Attacker can moditv the hardware ov changina or disabling ohvsica sensors. memories and features.\", 0.537976], [2395, \"Attacker injects CAN messages/codes via any ECUs connected to the bus.\", \"An attacker changes circuits of a device to extractsensitive data, such as cryptographic keys.\", 0.606806], [2396, \"Attacker injects CAN messages/codes via any ECUs connected to the bus.\", \"Attacker operates phisically on the TC by tampering the device firmware.\", 0.607286], [2397, \"Attacker injects CAN messages/codes via any ECUs connected to the bus.\", \"An attacker could perform remote control by installing remotely his own sottware on the device.\", 0.531663], [2398, \"Attacker injects CAN messages/codes via any ECUs connected to the bus.\", \"Reprogramming the USB/CD device's firmware to execute malicious actions.\", 0.521113], [2399, \"Attacker injects CAN messages/codes via any ECUs connected to the bus.\", \"An adversary can exploit the vulnerabilities o USB svstems on-board venice.\", 0.555997], [2405, \"Attacker injects CAN messages/codes via any ECUs connected to the bus.\", \"Smart key bruteforcing\", 0.448453], [2409, \"Attacker injects CAN messages/codes via any ECUs connected to the bus.\", \"Infotainment malware\", 0.441772], [2413, \"Attacker injects CAN messages/codes via any ECUs connected to the bus.\", \"CAN frame tampering\", 0.438866], [2419, \"Attacker injects CAN messages/codes via any ECUs connected to the bus.\", \"ECU firmware dump\", 0.418115], [2423, \"Attacker injects CAN messages/codes via any ECUs connected to the bus.\", \"Smart key jamming\", 0.531554], [2428, \"Attacker injects CAN messages/codes via any ECUs connected to the bus.\", \"Insider Threat\", 0.455375], [2449, \"Attacker modifies the path of the sensitive data circulating in the vehicle.\", \"Attacker remotely accesses via telematics systems (TCU).\", 0.460964], [2451, \"Attacker modifies the path of the sensitive data circulating in the vehicle.\", \"An adversary could link the messages to a specific vehicle.\", 0.491445], [2453, \"Attacker modifies the path of the sensitive data circulating in the vehicle.\", \"An adversary can execute arbitrary code on the telematics unit (TCU) and take control of the device.\", 0.458767], [2456, \"Attacker modifies the path of the sensitive data circulating in the vehicle.\", \"Attacker can edit, add, manipuler codes and framework of the must ECUs in the vehcles.\", 0.526324], [2457, \"Attacker modifies the path of the sensitive data circulating in the vehicle.\", \"Attacker can moditv the hardware ov changina or disabling ohvsica sensors. memories and features.\", 0.503015], [2458, \"Attacker modifies the path of the sensitive data circulating in the vehicle.\", \"An attacker changes circuits of a device to extractsensitive data, such as cryptographic keys.\", 0.592781], [2459, \"Attacker modifies the path of the sensitive data circulating in the vehicle.\", \"Attacker operates phisically on the TC by tampering the device firmware.\", 0.445649], [2460, \"Attacker modifies the path of the sensitive data circulating in the vehicle.\", \"An attacker could perform remote control by installing remotely his own sottware on the device.\", 0.43103], [2463, \"Attacker modifies the path of the sensitive data circulating in the vehicle.\", \"An adversary can identify or track the vehicle from the sensor.\", 0.447015], [2465, \"Attacker modifies the path of the sensitive data circulating in the vehicle.\", \"Possibility to discover and control the behaviour and profile of the driver.\", 0.548068], [2466, \"Attacker modifies the path of the sensitive data circulating in the vehicle.\", \"An adversary relates pseudonymous positions to specific vehicles.\", 0.47285], [2472, \"Attacker modifies the path of the sensitive data circulating in the vehicle.\", \"Infotainment malware\", 0.40183], [2480, \"Attacker modifies the path of the sensitive data circulating in the vehicle.\", \"Infotainment reverse engineering\", 0.461681], [2489, \"Attacker modifies the path of the sensitive data circulating in the vehicle.\", \"Infotainment Alteration\", 0.55505], [2512, \"Attacker remotely accesses via telematics systems (TCU).\", \"An adversary can capture, analyze, and replaye the messages.\", 0.400846], [2513, \"Attacker remotely accesses via telematics systems (TCU).\", \"An adversary could link the messages to a specific vehicle.\", 0.413844], [2515, \"Attacker remotely accesses via telematics systems (TCU).\", \"An adversary can execute arbitrary code on the telematics unit (TCU) and take control of the device.\", 0.814812], [2516, \"Attacker remotely accesses via telematics systems (TCU).\", \"The SS7 vulnerabilities can be exploited to compromise SMS system to intercept text user messages.\", 0.461342], [2517, \"Attacker remotely accesses via telematics systems (TCU).\", \"Spying, SMS Interception & Modification, User Tracking.\", 0.461549], [2519, \"Attacker remotely accesses via telematics systems (TCU).\", \"Attacker can moditv the hardware ov changina or disabling ohvsica sensors. memories and features.\", 0.570636], [2520, \"Attacker remotely accesses via telematics systems (TCU).\", \"An attacker changes circuits of a device to extractsensitive data, such as cryptographic keys.\", 0.521578], [2521, \"Attacker remotely accesses via telematics systems (TCU).\", \"Attacker operates phisically on the TC by tampering the device firmware.\", 0.562028], [2522, \"Attacker remotely accesses via telematics systems (TCU).\", \"An attacker could perform remote control by installing remotely his own sottware on the device.\", 0.636813], [2524, \"Attacker remotely accesses via telematics systems (TCU).\", \"An adversary can exploit the vulnerabilities o USB svstems on-board venice.\", 0.519042], [2525, \"Attacker remotely accesses via telematics systems (TCU).\", \"An adversary can identify or track the vehicle from the sensor.\", 0.431466], [2555, \"Attacker remotely accesses via telematics systems (TCU).\", \"Operator-sided Data Leakage\", 0.418757], [2574, \"An adversary can capture, analyze, and replaye the messages.\", \"An adversary could link the messages to a specific vehicle.\", 0.502892], [2575, \"An adversary can capture, analyze, and replaye the messages.\", \"An adversarv can crack a weak password.\", 0.486685], [2576, \"An adversary can capture, analyze, and replaye the messages.\", \"An adversary can execute arbitrary code on the telematics unit (TCU) and take control of the device.\", 0.551895], [2577, \"An adversary can capture, analyze, and replaye the messages.\", \"The SS7 vulnerabilities can be exploited to compromise SMS system to intercept text user messages.\", 0.506037], [2578, \"An adversary can capture, analyze, and replaye the messages.\", \"Spying, SMS Interception & Modification, User Tracking.\", 0.437374], [2580, \"An adversary can capture, analyze, and replaye the messages.\", \"Attacker can moditv the hardware ov changina or disabling ohvsica sensors. memories and features.\", 0.497853], [2581, \"An adversary can capture, analyze, and replaye the messages.\", \"An attacker changes circuits of a device to extractsensitive data, such as cryptographic keys.\", 0.496394], [2583, \"An adversary can capture, analyze, and replaye the messages.\", \"An attacker could perform remote control by installing remotely his own sottware on the device.\", 0.406986], [2585, \"An adversary can capture, analyze, and replaye the messages.\", \"An adversary can exploit the vulnerabilities o USB svstems on-board venice.\", 0.558888], [2586, \"An adversary can capture, analyze, and replaye the messages.\", \"An adversary can identify or track the vehicle from the sensor.\", 0.571975], [2587, \"An adversary can capture, analyze, and replaye the messages.\", \"For wireless communication channel, messages can be captured, analyze, and replayed.\", 0.667772], [2588, \"An adversary can capture, analyze, and replaye the messages.\", \"Possibility to discover and control the behaviour and profile of the driver.\", 0.406613], [2594, \"An adversary can capture, analyze, and replaye the messages.\", \"V2X Message replay\", 0.508896], [2599, \"An adversary can capture, analyze, and replaye the messages.\", \"CAN frame tampering\", 0.47198], [2601, \"An adversary can capture, analyze, and replaye the messages.\", \"CAN eavesdropping\", 0.481429], [2636, \"An adversary could link the messages to a specific vehicle.\", \"An adversary can execute arbitrary code on the telematics unit (TCU) and take control of the device.\", 0.471899], [2639, \"An adversary could link the messages to a specific vehicle.\", \"Attacker can edit, add, manipuler codes and framework of the must ECUs in the vehcles.\", 0.466694], [2643, \"An adversary could link the messages to a specific vehicle.\", \"An attacker could perform remote control by installing remotely his own sottware on the device.\", 0.434956], [2645, \"An adversary could link the messages to a specific vehicle.\", \"An adversary can exploit the vulnerabilities o USB svstems on-board venice.\", 0.501754], [2646, \"An adversary could link the messages to a specific vehicle.\", \"An adversary can identify or track the vehicle from the sensor.\", 0.818624], [2648, \"An adversary could link the messages to a specific vehicle.\", \"Possibility to discover and control the behaviour and profile of the driver.\", 0.580923], [2649, \"An adversary could link the messages to a specific vehicle.\", \"An adversary relates pseudonymous positions to specific vehicles.\", 0.705839], [2655, \"An adversary could link the messages to a specific vehicle.\", \"Infotainment malware\", 0.441967], [2695, \"An adversarv can crack a weak password.\", \"An adversary can execute arbitrary code on the telematics unit (TCU) and take control of the device.\", 0.505414], [2696, \"An adversarv can crack a weak password.\", \"The SS7 vulnerabilities can be exploited to compromise SMS system to intercept text user messages.\", 0.418264], [2699, \"An adversarv can crack a weak password.\", \"Attacker can moditv the hardware ov changina or disabling ohvsica sensors. memories and features.\", 0.506285], [2700, \"An adversarv can crack a weak password.\", \"An attacker changes circuits of a device to extractsensitive data, such as cryptographic keys.\", 0.587104], [2701, \"An adversarv can crack a weak password.\", \"Attacker operates phisically on the TC by tampering the device firmware.\", 0.422145], [2702, \"An adversarv can crack a weak password.\", \"An attacker could perform remote control by installing remotely his own sottware on the device.\", 0.44806], [2704, \"An adversarv can crack a weak password.\", \"An adversary can exploit the vulnerabilities o USB svstems on-board venice.\", 0.555978], [2710, \"An adversarv can crack a weak password.\", \"Smart key bruteforcing\", 0.562121], [2711, \"An adversarv can crack a weak password.\", \"Smart key cloning\", 0.462249], [2718, \"An adversarv can crack a weak password.\", \"CAN frame tampering\", 0.424363], [2728, \"An adversarv can crack a weak password.\", \"Smart key jamming\", 0.571548], [2733, \"An adversarv can crack a weak password.\", \"Insider Threat\", 0.435829], [2734, \"An adversarv can crack a weak password.\", \"Web Application Vulnerabilities\", 0.426354], [2754, \"An adversary can execute arbitrary code on the telematics unit (TCU) and take control of the device.\", \"The SS7 vulnerabilities can be exploited to compromise SMS system to intercept text user messages.\", 0.548193], [2755, \"An adversary can execute arbitrary code on the telematics unit (TCU) and take control of the device.\", \"Spying, SMS Interception & Modification, User Tracking.\", 0.442207], [2756, \"An adversary can execute arbitrary code on the telematics unit (TCU) and take control of the device.\", \"Attacker can edit, add, manipuler codes and framework of the must ECUs in the vehcles.\", 0.496642], [2757, \"An adversary can execute arbitrary code on the telematics unit (TCU) and take control of the device.\", \"Attacker can moditv the hardware ov changina or disabling ohvsica sensors. memories and features.\", 0.674429], [2758, \"An adversary can execute arbitrary code on the telematics unit (TCU) and take control of the device.\", \"An attacker changes circuits of a device to extractsensitive data, such as cryptographic keys.\", 0.683586], [2759, \"An adversary can execute arbitrary code on the telematics unit (TCU) and take control of the device.\", \"Attacker operates phisically on the TC by tampering the device firmware.\", 0.693854], [2760, \"An adversary can execute arbitrary code on the telematics unit (TCU) and take control of the device.\", \"An attacker could perform remote control by installing remotely his own sottware on the device.\", 0.738265], [2761, \"An adversary can execute arbitrary code on the telematics unit (TCU) and take control of the device.\", \"Reprogramming the USB/CD device's firmware to execute malicious actions.\", 0.547392], [2762, \"An adversary can execute arbitrary code on the telematics unit (TCU) and take control of the device.\", \"An adversary can exploit the vulnerabilities o USB svstems on-board venice.\", 0.632274], [2763, \"An adversary can execute arbitrary code on the telematics unit (TCU) and take control of the device.\", \"An adversary can identify or track the vehicle from the sensor.\", 0.477295], [2767, \"An adversary can execute arbitrary code on the telematics unit (TCU) and take control of the device.\", \"Mobile App spoofing\", 0.424239], [2772, \"An adversary can execute arbitrary code on the telematics unit (TCU) and take control of the device.\", \"Infotainment malware\", 0.45436], [2773, \"An adversary can execute arbitrary code on the telematics unit (TCU) and take control of the device.\", \"Mobile App malware\", 0.463628], [2776, \"An adversary can execute arbitrary code on the telematics unit (TCU) and take control of the device.\", \"CAN frame tampering\", 0.485504], [2777, \"An adversary can execute arbitrary code on the telematics unit (TCU) and take control of the device.\", \"V2X data tampering\", 0.436582], [2786, \"An adversary can execute arbitrary code on the telematics unit (TCU) and take control of the device.\", \"Smart key jamming\", 0.479239], [2812, \"The SS7 vulnerabilities can be exploited to compromise SMS system to intercept text user messages.\", \"Spying, SMS Interception & Modification, User Tracking.\", 0.461005], [2815, \"The SS7 vulnerabilities can be exploited to compromise SMS system to intercept text user messages.\", \"An attacker changes circuits of a device to extractsensitive data, such as cryptographic keys.\", 0.531464], [2816, \"The SS7 vulnerabilities can be exploited to compromise SMS system to intercept text user messages.\", \"Attacker operates phisically on the TC by tampering the device firmware.\", 0.473258], [2817, \"The SS7 vulnerabilities can be exploited to compromise SMS system to intercept text user messages.\", \"An attacker could perform remote control by installing remotely his own sottware on the device.\", 0.523931], [2818, \"The SS7 vulnerabilities can be exploited to compromise SMS system to intercept text user messages.\", \"Reprogramming the USB/CD device's firmware to execute malicious actions.\", 0.404345], [2819, \"The SS7 vulnerabilities can be exploited to compromise SMS system to intercept text user messages.\", \"An adversary can exploit the vulnerabilities o USB svstems on-board venice.\", 0.526954], [2821, \"The SS7 vulnerabilities can be exploited to compromise SMS system to intercept text user messages.\", \"For wireless communication channel, messages can be captured, analyze, and replayed.\", 0.417746], [2824, \"The SS7 vulnerabilities can be exploited to compromise SMS system to intercept text user messages.\", \"Mobile App spoofing\", 0.469049], [2830, \"The SS7 vulnerabilities can be exploited to compromise SMS system to intercept text user messages.\", \"Mobile App malware\", 0.512166], [2833, \"The SS7 vulnerabilities can be exploited to compromise SMS system to intercept text user messages.\", \"CAN frame tampering\", 0.40001], [2871, \"Spying, SMS Interception & Modification, User Tracking.\", \"An attacker changes circuits of a device to extractsensitive data, such as cryptographic keys.\", 0.421084], [2872, \"Spying, SMS Interception & Modification, User Tracking.\", \"Attacker operates phisically on the TC by tampering the device firmware.\", 0.524526], [2876, \"Spying, SMS Interception & Modification, User Tracking.\", \"An adversary can identify or track the vehicle from the sensor.\", 0.410503], [2877, \"Spying, SMS Interception & Modification, User Tracking.\", \"For wireless communication channel, messages can be captured, analyze, and replayed.\", 0.451819], [2880, \"Spying, SMS Interception & Modification, User Tracking.\", \"Mobile App spoofing\", 0.499392], [2886, \"Spying, SMS Interception & Modification, User Tracking.\", \"Mobile App malware\", 0.509494], [2891, \"Spying, SMS Interception & Modification, User Tracking.\", \"CAN eavesdropping\", 0.560961], [2925, \"Attacker can edit, add, manipuler codes and framework of the must ECUs in the vehcles.\", \"Attacker can moditv the hardware ov changina or disabling ohvsica sensors. memories and features.\", 0.532646], [2928, \"Attacker can edit, add, manipuler codes and framework of the must ECUs in the vehcles.\", \"An attacker could perform remote control by installing remotely his own sottware on the device.\", 0.428728], [2933, \"Attacker can edit, add, manipuler codes and framework of the must ECUs in the vehcles.\", \"Possibility to discover and control the behaviour and profile of the driver.\", 0.526661], [2943, \"Attacker can edit, add, manipuler codes and framework of the must ECUs in the vehcles.\", \"CAN frame injection\", 0.417016], [2944, \"Attacker can edit, add, manipuler codes and framework of the must ECUs in the vehcles.\", \"CAN frame tampering\", 0.422264], [2948, \"Attacker can edit, add, manipuler codes and framework of the must ECUs in the vehcles.\", \"Infotainment reverse engineering\", 0.423665], [2957, \"Attacker can edit, add, manipuler codes and framework of the must ECUs in the vehcles.\", \"Infotainment Alteration\", 0.490037], [2980, \"Attacker can moditv the hardware ov changina or disabling ohvsica sensors. memories and features.\", \"An attacker changes circuits of a device to extractsensitive data, such as cryptographic keys.\", 0.585535], [2981, \"Attacker can moditv the hardware ov changina or disabling ohvsica sensors. memories and features.\", \"Attacker operates phisically on the TC by tampering the device firmware.\", 0.556375], [2982, \"Attacker can moditv the hardware ov changina or disabling ohvsica sensors. memories and features.\", \"An attacker could perform remote control by installing remotely his own sottware on the device.\", 0.666521], [2983, \"Attacker can moditv the hardware ov changina or disabling ohvsica sensors. memories and features.\", \"Reprogramming the USB/CD device's firmware to execute malicious actions.\", 0.509215], [2984, \"Attacker can moditv the hardware ov changina or disabling ohvsica sensors. memories and features.\", \"An adversary can exploit the vulnerabilities o USB svstems on-board venice.\", 0.562562], [2994, \"Attacker can moditv the hardware ov changina or disabling ohvsica sensors. memories and features.\", \"Infotainment malware\", 0.41394], [2998, \"Attacker can moditv the hardware ov changina or disabling ohvsica sensors. memories and features.\", \"CAN frame tampering\", 0.432292], [2999, \"Attacker can moditv the hardware ov changina or disabling ohvsica sensors. memories and features.\", \"V2X data tampering\", 0.416598], [3002, \"Attacker can moditv the hardware ov changina or disabling ohvsica sensors. memories and features.\", \"Infotainment reverse engineering\", 0.480653], [3004, \"Attacker can moditv the hardware ov changina or disabling ohvsica sensors. memories and features.\", \"ECU firmware dump\", 0.408245], [3008, \"Attacker can moditv the hardware ov changina or disabling ohvsica sensors. memories and features.\", \"Smart key jamming\", 0.453442], [3015, \"Attacker can moditv the hardware ov changina or disabling ohvsica sensors. memories and features.\", \"Operator-sided Data Leakage\", 0.500936], [3019, \"Attacker can moditv the hardware ov changina or disabling ohvsica sensors. memories and features.\", \"Insufficient Deletion of User Data\", 0.439075], [3022, \"Attacker can moditv the hardware ov changina or disabling ohvsica sensors. memories and features.\", \"Inability of users to access and modify data\", 0.444159], [3023, \"Attacker can moditv the hardware ov changina or disabling ohvsica sensors. memories and features.\", \"Collection of data not required for the user-consented purpose\", 0.466439], [3034, \"An attacker changes circuits of a device to extractsensitive data, such as cryptographic keys.\", \"Attacker operates phisically on the TC by tampering the device firmware.\", 0.656698], [3035, \"An attacker changes circuits of a device to extractsensitive data, such as cryptographic keys.\", \"An attacker could perform remote control by installing remotely his own sottware on the device.\", 0.563683], [3036, \"An attacker changes circuits of a device to extractsensitive data, such as cryptographic keys.\", \"Reprogramming the USB/CD device's firmware to execute malicious actions.\", 0.520858], [3037, \"An attacker changes circuits of a device to extractsensitive data, such as cryptographic keys.\", \"An adversary can exploit the vulnerabilities o USB svstems on-board venice.\", 0.532105], [3042, \"An attacker changes circuits of a device to extractsensitive data, such as cryptographic keys.\", \"Mobile App spoofing\", 0.43662], [3043, \"An attacker changes circuits of a device to extractsensitive data, such as cryptographic keys.\", \"Smart key bruteforcing\", 0.483804], [3044, \"An attacker changes circuits of a device to extractsensitive data, such as cryptographic keys.\", \"Smart key cloning\", 0.510098], [3048, \"An attacker changes circuits of a device to extractsensitive data, such as cryptographic keys.\", \"Mobile App malware\", 0.448294], [3051, \"An attacker changes circuits of a device to extractsensitive data, such as cryptographic keys.\", \"CAN frame tampering\", 0.458116], [3061, \"An attacker changes circuits of a device to extractsensitive data, such as cryptographic keys.\", \"Smart key jamming\", 0.649384], [3066, \"An attacker changes circuits of a device to extractsensitive data, such as cryptographic keys.\", \"Insider Threat\", 0.487275], [3068, \"An attacker changes circuits of a device to extractsensitive data, such as cryptographic keys.\", \"Operator-sided Data Leakage\", 0.422943], [3080, \"An attacker changes circuits of a device to extractsensitive data, such as cryptographic keys.\", \"Insecure Data Transfer\", 0.401337], [3082, \"An attacker changes circuits of a device to extractsensitive data, such as cryptographic keys.\", \"Misleading Content\", 0.408409], [3087, \"Attacker operates phisically on the TC by tampering the device firmware.\", \"An attacker could perform remote control by installing remotely his own sottware on the device.\", 0.649515], [3088, \"Attacker operates phisically on the TC by tampering the device firmware.\", \"Reprogramming the USB/CD device's firmware to execute malicious actions.\", 0.641126], [3089, \"Attacker operates phisically on the TC by tampering the device firmware.\", \"An adversary can exploit the vulnerabilities o USB svstems on-board venice.\", 0.539405], [3094, \"Attacker operates phisically on the TC by tampering the device firmware.\", \"Mobile App spoofing\", 0.594185], [3096, \"Attacker operates phisically on the TC by tampering the device firmware.\", \"Smart key cloning\", 0.414567], [3097, \"Attacker operates phisically on the TC by tampering the device firmware.\", \"GPS spoofing\", 0.400883], [3099, \"Attacker operates phisically on the TC by tampering the device firmware.\", \"Infotainment malware\", 0.499778], [3100, \"Attacker operates phisically on the TC by tampering the device firmware.\", \"Mobile App malware\", 0.587862], [3103, \"Attacker operates phisically on the TC by tampering the device firmware.\", \"CAN frame tampering\", 0.517504], [3104, \"Attacker operates phisically on the TC by tampering the device firmware.\", \"V2X data tampering\", 0.420226], [3113, \"Attacker operates phisically on the TC by tampering the device firmware.\", \"Smart key jamming\", 0.492091], [3134, \"Attacker operates phisically on the TC by tampering the device firmware.\", \"Misleading Content\", 0.411758], [3139, \"An attacker could perform remote control by installing remotely his own sottware on the device.\", \"Reprogramming the USB/CD device's firmware to execute malicious actions.\", 0.620219], [3140, \"An attacker could perform remote control by installing remotely his own sottware on the device.\", \"An adversary can exploit the vulnerabilities o USB svstems on-board venice.\", 0.622479], [3145, \"An attacker could perform remote control by installing remotely his own sottware on the device.\", \"Mobile App spoofing\", 0.427855], [3150, \"An attacker could perform remote control by installing remotely his own sottware on the device.\", \"Infotainment malware\", 0.47583], [3151, \"An attacker could perform remote control by installing remotely his own sottware on the device.\", \"Mobile App malware\", 0.474529], [3154, \"An attacker could perform remote control by installing remotely his own sottware on the device.\", \"CAN frame tampering\", 0.441204], [3155, \"An attacker could perform remote control by installing remotely his own sottware on the device.\", \"V2X data tampering\", 0.446739], [3164, \"An attacker could perform remote control by installing remotely his own sottware on the device.\", \"Smart key jamming\", 0.405059], [3168, \"An attacker could perform remote control by installing remotely his own sottware on the device.\", \"Rogue OBD-II Device\", 0.403186], [3171, \"An attacker could perform remote control by installing remotely his own sottware on the device.\", \"Operator-sided Data Leakage\", 0.418613], [3190, \"Reprogramming the USB/CD device's firmware to execute malicious actions.\", \"An adversary can exploit the vulnerabilities o USB svstems on-board venice.\", 0.632418], [3200, \"Reprogramming the USB/CD device's firmware to execute malicious actions.\", \"Infotainment malware\", 0.484248], [3240, \"An adversary can exploit the vulnerabilities o USB svstems on-board venice.\", \"An adversary can identify or track the vehicle from the sensor.\", 0.484178], [3249, \"An adversary can exploit the vulnerabilities o USB svstems on-board venice.\", \"Infotainment malware\", 0.492782], [3250, \"An adversary can exploit the vulnerabilities o USB svstems on-board venice.\", \"Mobile App malware\", 0.458135], [3253, \"An adversary can exploit the vulnerabilities o USB svstems on-board venice.\", \"CAN frame tampering\", 0.447742], [3269, \"An adversary can exploit the vulnerabilities o USB svstems on-board venice.\", \"Web Application Vulnerabilities\", 0.414777], [3290, \"An adversary can identify or track the vehicle from the sensor.\", \"Possibility to discover and control the behaviour and profile of the driver.\", 0.631839], [3291, \"An adversary can identify or track the vehicle from the sensor.\", \"An adversary relates pseudonymous positions to specific vehicles.\", 0.580169], [3297, \"An adversary can identify or track the vehicle from the sensor.\", \"Infotainment malware\", 0.410079], [3303, \"An adversary can identify or track the vehicle from the sensor.\", \"CAN eavesdropping\", 0.503996], [3318, \"An adversary can identify or track the vehicle from the sensor.\", \"Operator-sided Data Leakage\", 0.409774], [3343, \"For wireless communication channel, messages can be captured, analyze, and replayed.\", \"V2X Message replay\", 0.481539], [3350, \"For wireless communication channel, messages can be captured, analyze, and replayed.\", \"CAN eavesdropping\", 0.428574], [3384, \"Possibility to discover and control the behaviour and profile of the driver.\", \"An adversary relates pseudonymous positions to specific vehicles.\", 0.450341], [3407, \"Possibility to discover and control the behaviour and profile of the driver.\", \"Infotainment Alteration\", 0.422123], [3427, \"Possibility to discover and control the behaviour and profile of the driver.\", \"Data Aggregation and Profiling\", 0.462957], [3477, \"Mobile App spoofing\", \"GPS spoofing\", 0.546686], [3480, \"Mobile App spoofing\", \"Mobile App malware\", 0.758532], [3483, \"Mobile App spoofing\", \"CAN frame tampering\", 0.446715], [3514, \"Mobile App spoofing\", \"Misleading Content\", 0.579242], [3519, \"Smart key bruteforcing\", \"Smart key cloning\", 0.552173], [3525, \"Smart key bruteforcing\", \"CAN frame injection\", 0.403797], [3536, \"Smart key bruteforcing\", \"Smart key jamming\", 0.61308], [3565, \"Smart key cloning\", \"Mobile App malware\", 0.414063], [3578, \"Smart key cloning\", \"Smart key jamming\", 0.645937], [3609, \"GPS spoofing\", \"CAN frame tampering\", 0.400005], [3640, \"GPS spoofing\", \"Misleading Content\", 0.431367], [3650, \"V2X Message replay\", \"V2X data tampering\", 0.600567], [3657, \"V2X Message replay\", \"V2X eavesdropping\", 0.621517], [3661, \"V2X Message replay\", \"V2X DoS\", 0.648894], [3683, \"V2X Message replay\", \"Secondary Use\", 0.476819], [3685, \"Infotainment malware\", \"Mobile App malware\", 0.488332], [3692, \"Infotainment malware\", \"Infotainment reverse engineering\", 0.490674], [3698, \"Infotainment malware\", \"Smart key jamming\", 0.419482], [3701, \"Infotainment malware\", \"Infotainment Alteration\", 0.428462], [3736, \"Mobile App malware\", \"Smart key jamming\", 0.40675], [3757, \"Mobile App malware\", \"Misleading Content\", 0.408233], [3769, \"ECU reflash\", \"ECU firmware dump\", 0.47721], [3799, \"CAN frame injection\", \"CAN frame tampering\", 0.515032], [3809, \"CAN frame injection\", \"Smart key jamming\", 0.406551], [3835, \"CAN frame tampering\", \"V2X data tampering\", 0.422695], [3865, \"CAN frame tampering\", \"Misleading Content\", 0.451098], [3876, \"V2X data tampering\", \"V2X eavesdropping\", 0.679367], [3880, \"V2X data tampering\", \"V2X DoS\", 0.682754], [3882, \"V2X data tampering\", \"Rogue OBD-II Device\", 0.463095], [3885, \"V2X data tampering\", \"Operator-sided Data Leakage\", 0.413459], [3902, \"V2X data tampering\", \"Secondary Use\", 0.48908], [3909, \"CAN eavesdropping\", \"V2X eavesdropping\", 0.618304], [3918, \"CAN eavesdropping\", \"Operator-sided Data Leakage\", 0.485863], [3926, \"CAN eavesdropping\", \"Collection of data not required for the user-consented purpose\", 0.417811], [3958, \"Unauthorised diagnostic access\", \"Collection of data not required for the user-consented purpose\", 0.42923], [3977, \"Infotainment reverse engineering\", \"Infotainment Alteration\", 0.600613], [3978, \"Infotainment reverse engineering\", \"Rogue OBD-II Device\", 0.438043], [4009, \"Insecure API endpoint\", \"Insider Threat\", 0.429707], [4023, \"Insecure API endpoint\", \"Insecure Data Transfer\", 0.669211], [4090, \"V2X eavesdropping\", \"V2X DoS\", 0.654126], [4092, \"V2X eavesdropping\", \"Rogue OBD-II Device\", 0.439232], [4112, \"V2X eavesdropping\", \"Secondary Use\", 0.412056], [4144, \"Smart key jamming\", \"Insider Threat\", 0.401875], [4170, \"Data loss\", \"Operator-sided Data Leakage\", 0.463027], [4171, \"Data loss\", \"Insufficient Data Breach Response\", 0.453037], [4174, \"Data loss\", \"Insufficient Deletion of User Data\", 0.548836], [4175, \"Data loss\", \"Insufficient Data Quality\", 0.542164], [4176, \"Data loss\", \"Missing or Insufficient Session Expiration\", 0.403795], [4182, \"Data loss\", \"Insecure Data Transfer\", 0.423725], [4190, \"V2X DoS\", \"Rogue OBD-II Device\", 0.500134], [4210, \"V2X DoS\", \"Secondary Use\", 0.517825], [4253, \"Rogue OBD-II Device\", \"Secondary Use\", 0.418474], [4297, \"Operator-sided Data Leakage\", \"Insufficient Deletion of User Data\", 0.452467], [4301, \"Operator-sided Data Leakage\", \"Collection of data not required for the user-consented purpose\", 0.475365], [4305, \"Operator-sided Data Leakage\", \"Insecure Data Transfer\", 0.4246], [4314, \"Insufficient Data Breach Response\", \"Insufficient Deletion of User Data\", 0.531133], [4315, \"Insufficient Data Breach Response\", \"Insufficient Data Quality\", 0.555586], [4316, \"Insufficient Data Breach Response\", \"Missing or Insufficient Session Expiration\", 0.43137], [4319, \"Insufficient Data Breach Response\", \"Insufficient Data Structure Model to handle user rights\", 0.624751], [4329, \"Consent on Everything / Problems with getting Consent\", \"Non-transparent Policies, Agreements, Terms and Conditions\", 0.451144], [4341, \"Consent on Everything / Problems with getting Consent\", \"Collection without Consent\", 0.513501], [4349, \"Non-transparent Policies, Agreements, Terms and Conditions\", \"Collection of data not required for the user-consented purpose\", 0.418066], [4352, \"Non-transparent Policies, Agreements, Terms and Conditions\", \"Inappropriate Policies, Terms and Conditions\", 0.666409], [4356, \"Non-transparent Policies, Agreements, Terms and Conditions\", \"Collection without Consent\", 0.495984], [4360, \"Insufficient Deletion of User Data\", \"Insufficient Data Quality\", 0.438721], [4361, \"Insufficient Deletion of User Data\", \"Missing or Insufficient Session Expiration\", 0.558762], [4362, \"Insufficient Deletion of User Data\", \"Inability of users to access and modify data\", 0.507099], [4363, \"Insufficient Deletion of User Data\", \"Collection of data not required for the user-consented purpose\", 0.547702], [4364, \"Insufficient Deletion of User Data\", \"Insufficient Data Structure Model to handle user rights\", 0.509202], [4374, \"Insufficient Data Quality\", \"Missing or Insufficient Session Expiration\", 0.441427], [4377, \"Insufficient Data Quality\", \"Insufficient Data Structure Model to handle user rights\", 0.531948], [4389, \"Missing or Insufficient Session Expiration\", \"Insufficient Data Structure Model to handle user rights\", 0.422003], [4399, \"Inability of users to access and modify data\", \"Collection of data not required for the user-consented purpose\", 0.444746], [4400, \"Inability of users to access and modify data\", \"Insufficient Data Structure Model to handle user rights\", 0.548886], [4403, \"Inability of users to access and modify data\", \"Insecure Data Transfer\", 0.402566], [4410, \"Collection of data not required for the user-consented purpose\", \"Insufficient Data Structure Model to handle user rights\", 0.435614], [4416, \"Collection of data not required for the user-consented purpose\", \"Collection without Consent\", 0.483639], [4422, \"Insufficient Data Structure Model to handle user rights\", \"Insecure Data Transfer\", 0.400619], [4431, \"Sharing of Data with 3rd Party\", \"Transfer or Processing through 3rd Party\", 0.813606]];\n",
       "        // Display the table\n",
       "        $(document).ready(function () {\n",
       "            window.dataTablePromise.then(() => {\n",
       "                // Define the dt_args\n",
       "                let dt_args = {\"order\": []};\n",
       "                dt_args[\"data\"] = data;\n",
       "\n",
       "                \n",
       "                $('#6de3bb60-c015-42f0-ba56-b50f0e189e9a').DataTable(dt_args);\n",
       "            });\n",
       "        })\n",
       "    }\n",
       "</script>\n",
       "</div>\n"
      ],
      "text/plain": [
       "                                              sentence1   \n",
       "17                                    Denial of Service  \\\n",
       "78                                    Denial of Service   \n",
       "82                                    Denial of Service   \n",
       "90                                    Denial of Service   \n",
       "94                                              Malware   \n",
       "...                                                 ...   \n",
       "4403       Inability of users to access and modify data   \n",
       "4410  Collection of data not required for the user-c...   \n",
       "4416  Collection of data not required for the user-c...   \n",
       "4422  Insufficient Data Structure Model to handle us...   \n",
       "4431                     Sharing of Data with 3rd Party   \n",
       "\n",
       "                                              sentence2     score  \n",
       "17                     Failure or Disruption of service  0.426178  \n",
       "78    Non-transparent Policies, Agreements, Terms an...  0.409990  \n",
       "82         Inability of users to access and modify data  0.439241  \n",
       "90                           Collection without Consent  0.416402  \n",
       "94                Manipulation of hardware and software  0.517936  \n",
       "...                                                 ...       ...  \n",
       "4403                             Insecure Data Transfer  0.402566  \n",
       "4410  Insufficient Data Structure Model to handle us...  0.435614  \n",
       "4416                         Collection without Consent  0.483639  \n",
       "4422                             Insecure Data Transfer  0.400619  \n",
       "4431           Transfer or Processing through 3rd Party  0.813606  \n",
       "\n",
       "[519 rows x 3 columns]"
      ]
     },
     "execution_count": 31,
     "metadata": {},
     "output_type": "execute_result"
    }
   ],
   "source": [
    "ss_scores_path = f'{threat_list_path.split(\".csv\")[0]}_semantic_similarity_scores.csv'\n",
    "embraceable_candidates = step2(ss_scores_path, ss_threshold.value)\n",
    "print(f'The list of embraceable candidates above the threshold {ss_threshold.value} contains {len(embraceable_candidates)} pairs.')\n",
    "embraceable_candidates"
   ]
  },
  {
   "cell_type": "code",
   "execution_count": 32,
   "metadata": {},
   "outputs": [
    {
     "data": {
      "text/html": [
       "<style>.itables table td {\n",
       "    text-overflow: ellipsis;\n",
       "    overflow: hidden;\n",
       "}\n",
       "\n",
       ".itables table th {\n",
       "    text-overflow: ellipsis;\n",
       "    overflow: hidden;\n",
       "}\n",
       "\n",
       ".itables thead input {\n",
       "    width: 100%;\n",
       "    padding: 3px;\n",
       "    box-sizing: border-box;\n",
       "}\n",
       "\n",
       ".itables tfoot input {\n",
       "    width: 100%;\n",
       "    padding: 3px;\n",
       "    box-sizing: border-box;\n",
       "}\n",
       "</style>\n",
       "<div class=\"itables\">\n",
       "<table id=\"4e34141e-e34f-49de-80d3-660b5f86660b\" class=\"display nowrap\"style=\"table-layout:auto;width:auto;margin:auto;caption-side:bottom\"><thead>\n",
       "    <tr style=\"text-align: right;\">\n",
       "      <th></th>\n",
       "      <th>sentence1</th>\n",
       "      <th>sentence2</th>\n",
       "      <th>score</th>\n",
       "    </tr>\n",
       "  </thead><tbody><tr><td>Loading... (need <a href=https://mwouts.github.io/itables/troubleshooting.html>help</a>?)</td></tr></tbody></table>\n",
       "<script>\n",
       "    // We use a namespace per table (= the next curly bracket)\n",
       "    // to avoid conflicts between the various tables' data & dt_args\n",
       "    {\n",
       "        // Define the table data\n",
       "        const data = [[2096, \"Erroneous use or configuration of car components\", \"Infotainment Alteration\", 0.498957]];\n",
       "        // Display the table\n",
       "        $(document).ready(function () {\n",
       "            window.dataTablePromise.then(() => {\n",
       "                // Define the dt_args\n",
       "                let dt_args = {\"order\": [], \"dom\": \"t\"};\n",
       "                dt_args[\"data\"] = data;\n",
       "\n",
       "                \n",
       "                $('#4e34141e-e34f-49de-80d3-660b5f86660b').DataTable(dt_args);\n",
       "            });\n",
       "        })\n",
       "    }\n",
       "</script>\n",
       "</div>\n"
      ],
      "text/plain": [
       "                                             sentence1   \n",
       "2096  Erroneous use or configuration of car components  \\\n",
       "\n",
       "                    sentence2     score  \n",
       "2096  Infotainment Alteration  0.498957  "
      ]
     },
     "execution_count": 32,
     "metadata": {},
     "output_type": "execute_result"
    }
   ],
   "source": [
    "index_to_embrace = int(input('Please specify the index of the pair you want to embrace.'))\n",
    "embraceable_candidates.iloc[embraceable_candidates.index==index_to_embrace]\n"
   ]
  },
  {
   "cell_type": "code",
   "execution_count": 33,
   "metadata": {},
   "outputs": [
    {
     "data": {
      "text/html": [
       "<style>.itables table td {\n",
       "    text-overflow: ellipsis;\n",
       "    overflow: hidden;\n",
       "}\n",
       "\n",
       ".itables table th {\n",
       "    text-overflow: ellipsis;\n",
       "    overflow: hidden;\n",
       "}\n",
       "\n",
       ".itables thead input {\n",
       "    width: 100%;\n",
       "    padding: 3px;\n",
       "    box-sizing: border-box;\n",
       "}\n",
       "\n",
       ".itables tfoot input {\n",
       "    width: 100%;\n",
       "    padding: 3px;\n",
       "    box-sizing: border-box;\n",
       "}\n",
       "</style>\n",
       "<div class=\"itables\">\n",
       "<table id=\"e3da27b3-702f-44db-904a-d925f5321f17\" class=\"display nowrap\"style=\"table-layout:auto;width:auto;margin:auto;caption-side:bottom\"><thead>\n",
       "    <tr style=\"text-align: right;\">\n",
       "      \n",
       "      <th>term</th>\n",
       "      <th>synonyms</th>\n",
       "      <th>meronyms</th>\n",
       "      <th>holonyms</th>\n",
       "      <th>hypernyms [L1]</th>\n",
       "      <th>hypernyms [L2]</th>\n",
       "      <th>hypernyms [L3]</th>\n",
       "      <th>hyponyms [L1]</th>\n",
       "      <th>hyponyms [L2]</th>\n",
       "      <th>hyponyms [L3]</th>\n",
       "    </tr>\n",
       "  </thead><tbody><tr><td>Loading... (need <a href=https://mwouts.github.io/itables/troubleshooting.html>help</a>?)</td></tr></tbody></table>\n",
       "<script>\n",
       "    // We use a namespace per table (= the next curly bracket)\n",
       "    // to avoid conflicts between the various tables' data & dt_args\n",
       "    {\n",
       "        // Define the table data\n",
       "        const data = [[\"Synset('use.n.01')\", \"[Synset('use.n.01'), Synset('function.n.02'), Synset('use.n.03'), Synset('consumption.n.03'), Synset('habit.n.02'), Synset('manipulation.n.01'), Synset('use.n.07'), Synset('use.v.01'), Synset('use.v.02'), Synset('use.v.03'), Synset('use.v.04'), Synset('practice.v.04'), Synset('use.v.06')]\", \"[]\", \"[]\", \"[Synset('activity.n.01')]\", \"[Synset('activity.n.01'), Synset('act.n.02')]\", \"[Synset('activity.n.01'), Synset('act.n.02'), Synset('event.n.01')]\", \"[Synset('application.n.01'), Synset('exploitation.n.01'), Synset('misuse.n.01'), Synset('play.n.06'), Synset('practice.n.04'), Synset('recycling.n.01')]\", \"[Synset('application.n.01'), Synset('exploitation.n.01'), Synset('misuse.n.01'), Synset('play.n.06'), Synset('practice.n.04'), Synset('recycling.n.01'), Synset('misapplication.n.01'), Synset('technology.n.01'), Synset('capitalization.n.03'), Synset('commercialization.n.01'), Synset('electrification.n.02'), Synset('land_development.n.01'), Synset('overexploitation.n.01'), Synset('unitization.n.04'), Synset('water_development.n.01'), Synset('substance_abuse.n.01'), Synset('consultancy.n.01'), Synset('cosmetology.n.01'), Synset('dental_practice.n.01'), Synset('law_practice.n.01'), Synset('medical_practice.n.01'), Synset('optometry.n.01'), Synset('private_practice.n.01'), Synset('witching.n.01'), Synset('bottle_collection.n.03')]\", \"[Synset('application.n.01'), Synset('exploitation.n.01'), Synset('misuse.n.01'), Synset('play.n.06'), Synset('practice.n.04'), Synset('recycling.n.01'), Synset('misapplication.n.01'), Synset('technology.n.01'), Synset('capitalization.n.03'), Synset('commercialization.n.01'), Synset('electrification.n.02'), Synset('land_development.n.01'), Synset('overexploitation.n.01'), Synset('unitization.n.04'), Synset('water_development.n.01'), Synset('substance_abuse.n.01'), Synset('consultancy.n.01'), Synset('cosmetology.n.01'), Synset('dental_practice.n.01'), Synset('law_practice.n.01'), Synset('medical_practice.n.01'), Synset('optometry.n.01'), Synset('private_practice.n.01'), Synset('witching.n.01'), Synset('bottle_collection.n.03'), Synset('aeronautical_engineering.n.02'), Synset('automotive_technology.n.01'), Synset('chemical_engineering.n.02'), Synset('communications_technology.n.01'), Synset('computer_technology.n.01'), Synset('high_technology.n.01'), Synset('rail_technology.n.01'), Synset('alcohol_abuse.n.01'), Synset('family_practice.n.01'), Synset('group_practice.n.01'), Synset('quackery.n.01')]\"], [\"Synset('configuration.n.01')\", \"[Synset('configuration.n.01'), Synset('shape.n.01')]\", \"[]\", \"[]\", \"[Synset('design.n.02')]\", \"[Synset('design.n.02'), Synset('arrangement.n.03')]\", \"[Synset('design.n.02'), Synset('arrangement.n.03'), Synset('structure.n.03')]\", \"[Synset('redundancy.n.03'), Synset('topology.n.04'), Synset('unitization.n.01')]\", \"[Synset('redundancy.n.03'), Synset('topology.n.04'), Synset('unitization.n.01'), Synset('bus_topology.n.01'), Synset('logical_topology.n.01'), Synset('loop_topology.n.01'), Synset('mesh_topology.n.01'), Synset('physical_topology.n.01'), Synset('star_topology.n.01')]\", \"[Synset('redundancy.n.03'), Synset('topology.n.04'), Synset('unitization.n.01'), Synset('bus_topology.n.01'), Synset('logical_topology.n.01'), Synset('loop_topology.n.01'), Synset('mesh_topology.n.01'), Synset('physical_topology.n.01'), Synset('star_topology.n.01')]\"], [\"Synset('car.n.01')\", \"[Synset('car.n.01'), Synset('car.n.02'), Synset('car.n.03'), Synset('car.n.04'), Synset('cable_car.n.01')]\", \"[Synset('accelerator.n.01'), Synset('air_bag.n.01'), Synset('auto_accessory.n.01'), Synset('automobile_engine.n.01'), Synset('automobile_horn.n.01'), Synset('buffer.n.06'), Synset('bumper.n.02'), Synset('car_door.n.01'), Synset('car_mirror.n.01'), Synset('car_seat.n.01'), Synset('car_window.n.01'), Synset('fender.n.01'), Synset('first_gear.n.01'), Synset('floorboard.n.02'), Synset('gasoline_engine.n.01'), Synset('glove_compartment.n.01'), Synset('grille.n.02'), Synset('high_gear.n.01'), Synset('hood.n.09'), Synset('luggage_compartment.n.01'), Synset('rear_window.n.01'), Synset('reverse.n.02'), Synset('roof.n.02'), Synset('running_board.n.01'), Synset('stabilizer_bar.n.01'), Synset('sunroof.n.01'), Synset('tail_fin.n.02'), Synset('third_gear.n.01'), Synset('window.n.02'), Synset('exhaust.n.02'), Synset('horn_button.n.01'), Synset('bumper_guard.n.01'), Synset('armrest.n.01'), Synset('doorlock.n.01'), Synset('hinge.n.01'), Synset('back.n.08'), Synset('headrest.n.01'), Synset('seat_belt.n.01'), Synset('inlet_manifold.n.01'), Synset('hood_ornament.n.01'), Synset('exhaust_manifold.n.01'), Synset('exhaust_pipe.n.01'), Synset('exhaust_valve.n.01'), Synset('silencer.n.02'), Synset('tailpipe.n.01'), Synset('pintle.n.01')]\", \"[]\", \"[Synset('motor_vehicle.n.01')]\", \"[Synset('motor_vehicle.n.01'), Synset('self-propelled_vehicle.n.01')]\", \"[Synset('motor_vehicle.n.01'), Synset('self-propelled_vehicle.n.01'), Synset('wheeled_vehicle.n.01')]\", \"[Synset('ambulance.n.01'), Synset('beach_wagon.n.01'), Synset('bus.n.04'), Synset('cab.n.03'), Synset('compact.n.03'), Synset('convertible.n.01'), Synset('coupe.n.01'), Synset('cruiser.n.01'), Synset('electric.n.01'), Synset('gas_guzzler.n.01'), Synset('hardtop.n.01'), Synset('hatchback.n.01'), Synset('horseless_carriage.n.01'), Synset('hot_rod.n.01'), Synset('jeep.n.01'), Synset('limousine.n.01'), Synset('loaner.n.02'), Synset('minicar.n.01'), Synset('minivan.n.01'), Synset('model_t.n.01'), Synset('pace_car.n.01'), Synset('racer.n.02'), Synset('roadster.n.01'), Synset('sedan.n.01'), Synset('sport_utility.n.01'), Synset('sports_car.n.01'), Synset('stanley_steamer.n.01'), Synset('stock_car.n.01'), Synset('subcompact.n.01'), Synset('touring_car.n.01'), Synset('used-car.n.01')]\", \"[Synset('ambulance.n.01'), Synset('beach_wagon.n.01'), Synset('bus.n.04'), Synset('cab.n.03'), Synset('compact.n.03'), Synset('convertible.n.01'), Synset('coupe.n.01'), Synset('cruiser.n.01'), Synset('electric.n.01'), Synset('gas_guzzler.n.01'), Synset('hardtop.n.01'), Synset('hatchback.n.01'), Synset('horseless_carriage.n.01'), Synset('hot_rod.n.01'), Synset('jeep.n.01'), Synset('limousine.n.01'), Synset('loaner.n.02'), Synset('minicar.n.01'), Synset('minivan.n.01'), Synset('model_t.n.01'), Synset('pace_car.n.01'), Synset('racer.n.02'), Synset('roadster.n.01'), Synset('sedan.n.01'), Synset('sport_utility.n.01'), Synset('sports_car.n.01'), Synset('stanley_steamer.n.01'), Synset('stock_car.n.01'), Synset('subcompact.n.01'), Synset('touring_car.n.01'), Synset('used-car.n.01'), Synset('funny_wagon.n.01'), Synset('shooting_brake.n.01'), Synset('gypsy_cab.n.01'), Synset('minicab.n.01'), Synset('panda_car.n.01'), Synset('berlin.n.03'), Synset('minicab.n.01'), Synset('finisher.n.05'), Synset('stock_car.n.02'), Synset('brougham.n.02')]\", \"[Synset('ambulance.n.01'), Synset('beach_wagon.n.01'), Synset('bus.n.04'), Synset('cab.n.03'), Synset('compact.n.03'), Synset('convertible.n.01'), Synset('coupe.n.01'), Synset('cruiser.n.01'), Synset('electric.n.01'), Synset('gas_guzzler.n.01'), Synset('hardtop.n.01'), Synset('hatchback.n.01'), Synset('horseless_carriage.n.01'), Synset('hot_rod.n.01'), Synset('jeep.n.01'), Synset('limousine.n.01'), Synset('loaner.n.02'), Synset('minicar.n.01'), Synset('minivan.n.01'), Synset('model_t.n.01'), Synset('pace_car.n.01'), Synset('racer.n.02'), Synset('roadster.n.01'), Synset('sedan.n.01'), Synset('sport_utility.n.01'), Synset('sports_car.n.01'), Synset('stanley_steamer.n.01'), Synset('stock_car.n.01'), Synset('subcompact.n.01'), Synset('touring_car.n.01'), Synset('used-car.n.01'), Synset('funny_wagon.n.01'), Synset('shooting_brake.n.01'), Synset('gypsy_cab.n.01'), Synset('minicab.n.01'), Synset('panda_car.n.01'), Synset('berlin.n.03'), Synset('minicab.n.01'), Synset('finisher.n.05'), Synset('stock_car.n.02'), Synset('brougham.n.02')]\"], [\"Synset('component.n.01')\", \"[Synset('component.n.01'), Synset('part.n.01'), Synset('component.n.03')]\", \"[]\", \"[]\", \"[Synset('part.n.09')]\", \"[Synset('part.n.09'), Synset('concept.n.01')]\", \"[Synset('part.n.09'), Synset('concept.n.01'), Synset('idea.n.01')]\", \"[Synset('be-all_and_end-all.n.01'), Synset('plot_element.n.01'), Synset('point.n.01')]\", \"[Synset('be-all_and_end-all.n.01'), Synset('plot_element.n.01'), Synset('point.n.01'), Synset('mcguffin.n.01'), Synset('attractor.n.02'), Synset('intercept.n.01'), Synset('intersection.n.01')]\", \"[Synset('be-all_and_end-all.n.01'), Synset('plot_element.n.01'), Synset('point.n.01'), Synset('mcguffin.n.01'), Synset('attractor.n.02'), Synset('intercept.n.01'), Synset('intersection.n.01'), Synset('strange_attractor.n.01'), Synset('metacenter.n.01'), Synset('vertex.n.01')]\"]];\n",
       "        // Display the table\n",
       "        $(document).ready(function () {\n",
       "            window.dataTablePromise.then(() => {\n",
       "                // Define the dt_args\n",
       "                let dt_args = {\"order\": [], \"dom\": \"t\"};\n",
       "                dt_args[\"data\"] = data;\n",
       "\n",
       "                \n",
       "                $('#e3da27b3-702f-44db-904a-d925f5321f17').DataTable(dt_args);\n",
       "            });\n",
       "        })\n",
       "    }\n",
       "</script>\n",
       "</div>\n"
      ],
      "text/plain": [
       "                           term   \n",
       "0            Synset('use.n.01')  \\\n",
       "1  Synset('configuration.n.01')   \n",
       "2            Synset('car.n.01')   \n",
       "3      Synset('component.n.01')   \n",
       "\n",
       "                                            synonyms   \n",
       "0  [Synset('use.n.01'), Synset('function.n.02'), ...  \\\n",
       "1  [Synset('configuration.n.01'), Synset('shape.n...   \n",
       "2  [Synset('car.n.01'), Synset('car.n.02'), Synse...   \n",
       "3  [Synset('component.n.01'), Synset('part.n.01')...   \n",
       "\n",
       "                                            meronyms holonyms   \n",
       "0                                                 []       []  \\\n",
       "1                                                 []       []   \n",
       "2  [Synset('accelerator.n.01'), Synset('air_bag.n...       []   \n",
       "3                                                 []       []   \n",
       "\n",
       "                   hypernyms [L1]   \n",
       "0       [Synset('activity.n.01')]  \\\n",
       "1         [Synset('design.n.02')]   \n",
       "2  [Synset('motor_vehicle.n.01')]   \n",
       "3           [Synset('part.n.09')]   \n",
       "\n",
       "                                      hypernyms [L2]   \n",
       "0      [Synset('activity.n.01'), Synset('act.n.02')]  \\\n",
       "1  [Synset('design.n.02'), Synset('arrangement.n....   \n",
       "2  [Synset('motor_vehicle.n.01'), Synset('self-pr...   \n",
       "3      [Synset('part.n.09'), Synset('concept.n.01')]   \n",
       "\n",
       "                                      hypernyms [L3]   \n",
       "0  [Synset('activity.n.01'), Synset('act.n.02'), ...  \\\n",
       "1  [Synset('design.n.02'), Synset('arrangement.n....   \n",
       "2  [Synset('motor_vehicle.n.01'), Synset('self-pr...   \n",
       "3  [Synset('part.n.09'), Synset('concept.n.01'), ...   \n",
       "\n",
       "                                       hyponyms [L1]   \n",
       "0  [Synset('application.n.01'), Synset('exploitat...  \\\n",
       "1  [Synset('redundancy.n.03'), Synset('topology.n...   \n",
       "2  [Synset('ambulance.n.01'), Synset('beach_wagon...   \n",
       "3  [Synset('be-all_and_end-all.n.01'), Synset('pl...   \n",
       "\n",
       "                                       hyponyms [L2]   \n",
       "0  [Synset('application.n.01'), Synset('exploitat...  \\\n",
       "1  [Synset('redundancy.n.03'), Synset('topology.n...   \n",
       "2  [Synset('ambulance.n.01'), Synset('beach_wagon...   \n",
       "3  [Synset('be-all_and_end-all.n.01'), Synset('pl...   \n",
       "\n",
       "                                       hyponyms [L3]  \n",
       "0  [Synset('application.n.01'), Synset('exploitat...  \n",
       "1  [Synset('redundancy.n.03'), Synset('topology.n...  \n",
       "2  [Synset('ambulance.n.01'), Synset('beach_wagon...  \n",
       "3  [Synset('be-all_and_end-all.n.01'), Synset('pl...  "
      ]
     },
     "execution_count": 33,
     "metadata": {},
     "output_type": "execute_result"
    }
   ],
   "source": [
    "import pandas\n",
    "\n",
    "synset_dict1 = synset_relations(embraceable_candidates.iloc[embraceable_candidates.index==index_to_embrace]['sentence1'].values[0])\n",
    "synset_dict2 = synset_relations(embraceable_candidates.iloc[embraceable_candidates.index==index_to_embrace]['sentence2'].values[0])\n",
    "\n",
    "focus_df = pandas.concat([pandas.DataFrame.from_dict(synset_dict1['terms']), pandas.DataFrame.from_dict(synset_dict2['terms'])])\n",
    "focus_df"
   ]
  },
  {
   "cell_type": "code",
   "execution_count": 34,
   "metadata": {},
   "outputs": [
    {
     "name": "stdout",
     "output_type": "stream",
     "text": [
      "False False\n"
     ]
    }
   ],
   "source": [
    "s1 = embraceable_candidates.iloc[embraceable_candidates.index==index_to_embrace]['sentence1'].values[0]\n",
    "s2 = embraceable_candidates.iloc[embraceable_candidates.index==index_to_embrace]['sentence2'].values[0]\n",
    "is_partof, is_typeof = step3(s1, s2)\n",
    "print(is_partof, is_typeof)"
   ]
  },
  {
   "cell_type": "code",
   "execution_count": null,
   "metadata": {},
   "outputs": [],
   "source": []
  }
 ],
 "metadata": {
  "kernelspec": {
   "display_name": "venv",
   "language": "python",
   "name": "python3"
  },
  "language_info": {
   "codemirror_mode": {
    "name": "ipython",
    "version": 3
   },
   "file_extension": ".py",
   "mimetype": "text/x-python",
   "name": "python",
   "nbconvert_exporter": "python",
   "pygments_lexer": "ipython3",
   "version": "3.10.6"
  },
  "orig_nbformat": 4
 },
 "nbformat": 4,
 "nbformat_minor": 2
}
